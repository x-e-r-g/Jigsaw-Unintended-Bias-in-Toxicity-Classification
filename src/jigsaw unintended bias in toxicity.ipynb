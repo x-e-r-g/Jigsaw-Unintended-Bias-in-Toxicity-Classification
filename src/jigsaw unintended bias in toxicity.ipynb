{
  "nbformat": 4,
  "nbformat_minor": 0,
  "metadata": {
    "colab": {
      "name": "jigsaw-toxicity.ipynb",
      "provenance": []
    },
    "kernelspec": {
      "display_name": "Python 3",
      "name": "python3"
    },
    "language_info": {
      "name": "python"
    }
  },
  "cells": [
    {
      "cell_type": "markdown",
      "metadata": {
        "id": "2l1_hSLf84B5"
      },
      "source": [
        "# IMPORTS"
      ]
    },
    {
      "cell_type": "code",
      "metadata": {
        "colab": {
          "base_uri": "https://localhost:8080/"
        },
        "id": "EK8DGMLm7BNj",
        "outputId": "08f9c996-3891-4715-cb08-c8330ad20676"
      },
      "source": [
        "import pandas as pd\n",
        "import numpy as np\n",
        "import seaborn as sns\n",
        "import matplotlib as plt\n",
        "import nltk\n",
        "import re\n",
        "plt.rcParams[\"figure.figsize\"] = (12, 8) \n",
        "\n",
        "from sklearn.model_selection import train_test_split, StratifiedKFold\n",
        "from sklearn.metrics import classification_report, confusion_matrix\n",
        "\n",
        "from google.colab import drive\n",
        "drive.mount('/content/drive')"
      ],
      "execution_count": 1,
      "outputs": [
        {
          "output_type": "stream",
          "text": [
            "Mounted at /content/drive\n"
          ],
          "name": "stdout"
        }
      ]
    },
    {
      "cell_type": "markdown",
      "metadata": {
        "id": "SVmS938i86i_"
      },
      "source": [
        "# FETCH DATA"
      ]
    },
    {
      "cell_type": "code",
      "metadata": {
        "colab": {
          "base_uri": "https://localhost:8080/"
        },
        "id": "JVlv7xsu8FQJ",
        "outputId": "89b4358e-adcf-45c9-bd19-66884f9ffd58"
      },
      "source": [
        "df_train = pd.read_csv('/content/drive/MyDrive/Upskill/project2/data/train.csv')\n",
        "print(df_train.shape)"
      ],
      "execution_count": 17,
      "outputs": [
        {
          "output_type": "stream",
          "text": [
            "(1804874, 45)\n"
          ],
          "name": "stdout"
        }
      ]
    },
    {
      "cell_type": "code",
      "metadata": {
        "id": "byO0HIwicMdT"
      },
      "source": [
        "df_train = df_train[[\"target\", \"comment_text\"]]"
      ],
      "execution_count": 18,
      "outputs": []
    },
    {
      "cell_type": "code",
      "metadata": {
        "colab": {
          "base_uri": "https://localhost:8080/",
          "height": 359
        },
        "id": "P1yK5y07cVof",
        "outputId": "0220b509-bd04-48bd-e874-7f12e0b93bf6"
      },
      "source": [
        "df_train.head(10)"
      ],
      "execution_count": 19,
      "outputs": [
        {
          "output_type": "execute_result",
          "data": {
            "text/html": [
              "<div>\n",
              "<style scoped>\n",
              "    .dataframe tbody tr th:only-of-type {\n",
              "        vertical-align: middle;\n",
              "    }\n",
              "\n",
              "    .dataframe tbody tr th {\n",
              "        vertical-align: top;\n",
              "    }\n",
              "\n",
              "    .dataframe thead th {\n",
              "        text-align: right;\n",
              "    }\n",
              "</style>\n",
              "<table border=\"1\" class=\"dataframe\">\n",
              "  <thead>\n",
              "    <tr style=\"text-align: right;\">\n",
              "      <th></th>\n",
              "      <th>target</th>\n",
              "      <th>comment_text</th>\n",
              "    </tr>\n",
              "  </thead>\n",
              "  <tbody>\n",
              "    <tr>\n",
              "      <th>0</th>\n",
              "      <td>0.000000</td>\n",
              "      <td>This is so cool. It's like, 'would you want yo...</td>\n",
              "    </tr>\n",
              "    <tr>\n",
              "      <th>1</th>\n",
              "      <td>0.000000</td>\n",
              "      <td>Thank you!! This would make my life a lot less...</td>\n",
              "    </tr>\n",
              "    <tr>\n",
              "      <th>2</th>\n",
              "      <td>0.000000</td>\n",
              "      <td>This is such an urgent design problem; kudos t...</td>\n",
              "    </tr>\n",
              "    <tr>\n",
              "      <th>3</th>\n",
              "      <td>0.000000</td>\n",
              "      <td>Is this something I'll be able to install on m...</td>\n",
              "    </tr>\n",
              "    <tr>\n",
              "      <th>4</th>\n",
              "      <td>0.893617</td>\n",
              "      <td>haha you guys are a bunch of losers.</td>\n",
              "    </tr>\n",
              "    <tr>\n",
              "      <th>5</th>\n",
              "      <td>0.666667</td>\n",
              "      <td>ur a sh*tty comment.</td>\n",
              "    </tr>\n",
              "    <tr>\n",
              "      <th>6</th>\n",
              "      <td>0.457627</td>\n",
              "      <td>hahahahahahahahhha suck it.</td>\n",
              "    </tr>\n",
              "    <tr>\n",
              "      <th>7</th>\n",
              "      <td>0.000000</td>\n",
              "      <td>FFFFUUUUUUUUUUUUUUU</td>\n",
              "    </tr>\n",
              "    <tr>\n",
              "      <th>8</th>\n",
              "      <td>0.000000</td>\n",
              "      <td>The ranchers seem motivated by mostly by greed...</td>\n",
              "    </tr>\n",
              "    <tr>\n",
              "      <th>9</th>\n",
              "      <td>0.000000</td>\n",
              "      <td>It was a great show. Not a combo I'd of expect...</td>\n",
              "    </tr>\n",
              "  </tbody>\n",
              "</table>\n",
              "</div>"
            ],
            "text/plain": [
              "     target                                       comment_text\n",
              "0  0.000000  This is so cool. It's like, 'would you want yo...\n",
              "1  0.000000  Thank you!! This would make my life a lot less...\n",
              "2  0.000000  This is such an urgent design problem; kudos t...\n",
              "3  0.000000  Is this something I'll be able to install on m...\n",
              "4  0.893617               haha you guys are a bunch of losers.\n",
              "5  0.666667                               ur a sh*tty comment.\n",
              "6  0.457627                        hahahahahahahahhha suck it.\n",
              "7  0.000000                                FFFFUUUUUUUUUUUUUUU\n",
              "8  0.000000  The ranchers seem motivated by mostly by greed...\n",
              "9  0.000000  It was a great show. Not a combo I'd of expect..."
            ]
          },
          "metadata": {
            "tags": []
          },
          "execution_count": 19
        }
      ]
    },
    {
      "cell_type": "code",
      "metadata": {
        "id": "55mORmyyU6AT",
        "colab": {
          "base_uri": "https://localhost:8080/",
          "height": 409
        },
        "outputId": "05854e48-6182-4ff5-ad02-7e4431ce88c1"
      },
      "source": [
        "sns.set(style='whitegrid', palette=\"deep\", font_scale=1.1, rc={\"figure.figsize\": [8, 5]})\n",
        "sns.distplot(\n",
        "    df_train['target'], norm_hist=False, kde=False, bins=20, hist_kws={\"alpha\": 1}\n",
        ").set(xlabel='Sale Price', ylabel='Count');"
      ],
      "execution_count": 20,
      "outputs": [
        {
          "output_type": "stream",
          "text": [
            "/usr/local/lib/python3.7/dist-packages/seaborn/distributions.py:2557: FutureWarning: `distplot` is a deprecated function and will be removed in a future version. Please adapt your code to use either `displot` (a figure-level function with similar flexibility) or `histplot` (an axes-level function for histograms).\n",
            "  warnings.warn(msg, FutureWarning)\n"
          ],
          "name": "stderr"
        },
        {
          "output_type": "display_data",
          "data": {
            "image/png": "[encoded data removed]",
            "text/plain": [
              "<Figure size 576x360 with 1 Axes>"
            ]
          },
          "metadata": {
            "tags": []
          }
        }
      ]
    },
    {
      "cell_type": "markdown",
      "metadata": {
        "id": "MXSKZuqtglOb"
      },
      "source": [
        "# CLEANING TEXT DATA"
      ]
    },
    {
      "cell_type": "markdown",
      "metadata": {
        "id": "cI5pW97Diiyw"
      },
      "source": [
        "## To Lower"
      ]
    },
    {
      "cell_type": "code",
      "metadata": {
        "id": "QhEtBjuwik-J"
      },
      "source": [
        "df_train[\"comment_text\"] = [text.lower() for text in df_train[\"comment_text\"]]"
      ],
      "execution_count": 21,
      "outputs": []
    },
    {
      "cell_type": "code",
      "metadata": {
        "colab": {
          "base_uri": "https://localhost:8080/",
          "height": 359
        },
        "id": "uAg5TkGNoQo0",
        "outputId": "24d34268-0d42-490f-a1d0-78aef7051765"
      },
      "source": [
        "df_train.head(10)"
      ],
      "execution_count": 22,
      "outputs": [
        {
          "output_type": "execute_result",
          "data": {
            "text/html": [
              "<div>\n",
              "<style scoped>\n",
              "    .dataframe tbody tr th:only-of-type {\n",
              "        vertical-align: middle;\n",
              "    }\n",
              "\n",
              "    .dataframe tbody tr th {\n",
              "        vertical-align: top;\n",
              "    }\n",
              "\n",
              "    .dataframe thead th {\n",
              "        text-align: right;\n",
              "    }\n",
              "</style>\n",
              "<table border=\"1\" class=\"dataframe\">\n",
              "  <thead>\n",
              "    <tr style=\"text-align: right;\">\n",
              "      <th></th>\n",
              "      <th>target</th>\n",
              "      <th>comment_text</th>\n",
              "    </tr>\n",
              "  </thead>\n",
              "  <tbody>\n",
              "    <tr>\n",
              "      <th>0</th>\n",
              "      <td>0.000000</td>\n",
              "      <td>this is so cool. it's like, 'would you want yo...</td>\n",
              "    </tr>\n",
              "    <tr>\n",
              "      <th>1</th>\n",
              "      <td>0.000000</td>\n",
              "      <td>thank you!! this would make my life a lot less...</td>\n",
              "    </tr>\n",
              "    <tr>\n",
              "      <th>2</th>\n",
              "      <td>0.000000</td>\n",
              "      <td>this is such an urgent design problem; kudos t...</td>\n",
              "    </tr>\n",
              "    <tr>\n",
              "      <th>3</th>\n",
              "      <td>0.000000</td>\n",
              "      <td>is this something i'll be able to install on m...</td>\n",
              "    </tr>\n",
              "    <tr>\n",
              "      <th>4</th>\n",
              "      <td>0.893617</td>\n",
              "      <td>haha you guys are a bunch of losers.</td>\n",
              "    </tr>\n",
              "    <tr>\n",
              "      <th>5</th>\n",
              "      <td>0.666667</td>\n",
              "      <td>ur a sh*tty comment.</td>\n",
              "    </tr>\n",
              "    <tr>\n",
              "      <th>6</th>\n",
              "      <td>0.457627</td>\n",
              "      <td>hahahahahahahahhha suck it.</td>\n",
              "    </tr>\n",
              "    <tr>\n",
              "      <th>7</th>\n",
              "      <td>0.000000</td>\n",
              "      <td>ffffuuuuuuuuuuuuuuu</td>\n",
              "    </tr>\n",
              "    <tr>\n",
              "      <th>8</th>\n",
              "      <td>0.000000</td>\n",
              "      <td>the ranchers seem motivated by mostly by greed...</td>\n",
              "    </tr>\n",
              "    <tr>\n",
              "      <th>9</th>\n",
              "      <td>0.000000</td>\n",
              "      <td>it was a great show. not a combo i'd of expect...</td>\n",
              "    </tr>\n",
              "  </tbody>\n",
              "</table>\n",
              "</div>"
            ],
            "text/plain": [
              "     target                                       comment_text\n",
              "0  0.000000  this is so cool. it's like, 'would you want yo...\n",
              "1  0.000000  thank you!! this would make my life a lot less...\n",
              "2  0.000000  this is such an urgent design problem; kudos t...\n",
              "3  0.000000  is this something i'll be able to install on m...\n",
              "4  0.893617               haha you guys are a bunch of losers.\n",
              "5  0.666667                               ur a sh*tty comment.\n",
              "6  0.457627                        hahahahahahahahhha suck it.\n",
              "7  0.000000                                ffffuuuuuuuuuuuuuuu\n",
              "8  0.000000  the ranchers seem motivated by mostly by greed...\n",
              "9  0.000000  it was a great show. not a combo i'd of expect..."
            ]
          },
          "metadata": {
            "tags": []
          },
          "execution_count": 22
        }
      ]
    },
    {
      "cell_type": "markdown",
      "metadata": {
        "id": "vbiRvsTqgoK1"
      },
      "source": [
        "## Contractions"
      ]
    },
    {
      "cell_type": "code",
      "metadata": {
        "id": "uy66sWZFefDz"
      },
      "source": [
        "contraction_mapping = {\n",
        "    \"ain't\": \"is not\", \"aren't\": \"are not\",\"can't\": \"cannot\", \"'cause\": \"because\", \"could've\": \"could have\", \"couldn't\": \"could not\", \n",
        "    \"didn't\": \"did not\",  \"doesn't\": \"does not\", \"don't\": \"do not\", \"hadn't\": \"had not\", \"hasn't\": \"has not\", \"haven't\": \"have not\", \n",
        "    \"he'd\": \"he would\",\"he'll\": \"he will\", \"he's\": \"he is\", \"how'd\": \"how did\", \"how'd'y\": \"how do you\", \"how'll\": \"how will\", \"how's\": \"how is\",  \n",
        "    \"I'd\": \"I would\", \"I'd've\": \"I would have\", \"I'll\": \"I will\", \"I'll've\": \"I will have\",\"I'm\": \"I am\", \"I've\": \"I have\", \"i'd\": \"i would\", \"i'd've\": \n",
        "    \"i would have\", \"i'll\": \"i will\",  \"i'll've\": \"i will have\",\"i'm\": \"i am\", \"i've\": \"i have\", \"isn't\": \"is not\", \"it'd\": \"it would\", \n",
        "    \"it'd've\": \"it would have\", \"it'll\": \"it will\", \"it'll've\": \"it will have\",\"it's\": \"it is\", \"let's\": \"let us\", \"ma'am\": \"madam\", \n",
        "    \"mayn't\": \"may not\", \"might've\": \"might have\",\"mightn't\": \"might not\",\"mightn't've\": \"might not have\", \"must've\": \"must have\", \n",
        "    \"mustn't\": \"must not\", \"mustn't've\": \"must not have\", \"needn't\": \"need not\", \"needn't've\": \"need not have\",\n",
        "    \"o'clock\": \"of the clock\", \"oughtn't\": \"ought not\", \"oughtn't've\": \"ought not have\", \"shan't\": \"shall not\", \n",
        "    \"sha'n't\": \"shall not\", \"shan't've\": \"shall not have\", \"she'd\": \"she would\", \"she'd've\": \"she would have\", \n",
        "    \"she'll\": \"she will\", \"she'll've\": \"she will have\", \"she's\": \"she is\", \"should've\": \"should have\", \"shouldn't\": \"should not\", \n",
        "    \"shouldn't've\": \"should not have\", \"so've\": \"so have\",\"so's\": \"so as\", \"this's\": \"this is\",\"that'd\": \"that would\", \n",
        "    \"that'd've\": \"that would have\", \"that's\": \"that is\", \"there'd\": \"there would\", \"there'd've\": \"there would have\", \"there's\": \"there is\", \n",
        "    \"here's\": \"here is\",\"they'd\": \"they would\", \"they'd've\": \"they would have\", \"they'll\": \"they will\", \"they'll've\": \"they will have\", \n",
        "    \"they're\": \"they are\", \"they've\": \"they have\", \"to've\": \"to have\", \"wasn't\": \"was not\", \"we'd\": \"we would\", \"we'd've\": \"we would have\", \n",
        "    \"we'll\": \"we will\", \"we'll've\": \"we will have\", \"we're\": \"we are\", \"we've\": \"we have\", \"weren't\": \"were not\", \"what'll\": \"what will\", \n",
        "    \"what'll've\": \"what will have\", \"what're\": \"what are\",  \"what's\": \"what is\", \"what've\": \"what have\", \"when's\": \"when is\", \n",
        "    \"when've\": \"when have\", \"where'd\": \"where did\", \"where's\": \"where is\", \"where've\": \"where have\", \"who'll\": \"who will\", \"who'll've\": \"who will have\",\n",
        "    \"who's\": \"who is\", \"who've\": \"who have\", \"why's\": \"why is\", \"why've\": \"why have\", \"will've\": \"will have\", \"won't\": \"will not\", \n",
        "    \"won't've\": \"will not have\", \"would've\": \"would have\", \"wouldn't\": \"would not\", \"wouldn't've\": \"would not have\", \n",
        "    \"y'all\": \"you all\", \"y'all'd\": \"you all would\",\"y'all'd've\": \"you all would have\",\"y'all're\": \"you all are\",\"y'all've\": \"you all have\",\n",
        "    \"you'd\": \"you would\", \"you'd've\": \"you would have\", \"you'll\": \"you will\", \"you'll've\": \"you will have\", \"you're\": \"you are\", \"you've\": \"you have\",\n",
        "    \"Trump's\": \"trump is\", \"Obama's\": \"obama is\", \"Canada's\": \"canada is\", \"today's\": \"today is\"\n",
        "}"
      ],
      "execution_count": 19,
      "outputs": []
    },
    {
      "cell_type": "code",
      "metadata": {
        "id": "9pjuVRgGenp-"
      },
      "source": [
        "def clean_contractions(text):\n",
        "    specials = [\"’\", \"‘\", \"´\", \"`\"]\n",
        "    for s in specials:\n",
        "        text = text.replace(s, \"'\")\n",
        "    words = [contraction_mapping[word] if word in contraction_mapping else word for word in text.split(\" \")]\n",
        "    return ' '.join(words)"
      ],
      "execution_count": 20,
      "outputs": []
    },
    {
      "cell_type": "code",
      "metadata": {
        "id": "RG-bp6mmeoyw"
      },
      "source": [
        "df_train[\"comment_text\"] = [clean_contractions(text) for text in df_train[\"comment_text\"]]"
      ],
      "execution_count": 25,
      "outputs": []
    },
    {
      "cell_type": "code",
      "metadata": {
        "colab": {
          "base_uri": "https://localhost:8080/",
          "height": 359
        },
        "id": "snOq36QTtqwn",
        "outputId": "0951c7be-e25b-4f90-94ed-58cfb14766fe"
      },
      "source": [
        "df_train.head(10)"
      ],
      "execution_count": 26,
      "outputs": [
        {
          "output_type": "execute_result",
          "data": {
            "text/html": [
              "<div>\n",
              "<style scoped>\n",
              "    .dataframe tbody tr th:only-of-type {\n",
              "        vertical-align: middle;\n",
              "    }\n",
              "\n",
              "    .dataframe tbody tr th {\n",
              "        vertical-align: top;\n",
              "    }\n",
              "\n",
              "    .dataframe thead th {\n",
              "        text-align: right;\n",
              "    }\n",
              "</style>\n",
              "<table border=\"1\" class=\"dataframe\">\n",
              "  <thead>\n",
              "    <tr style=\"text-align: right;\">\n",
              "      <th></th>\n",
              "      <th>target</th>\n",
              "      <th>comment_text</th>\n",
              "    </tr>\n",
              "  </thead>\n",
              "  <tbody>\n",
              "    <tr>\n",
              "      <th>0</th>\n",
              "      <td>0.000000</td>\n",
              "      <td>this is so cool. it is like, 'would you want y...</td>\n",
              "    </tr>\n",
              "    <tr>\n",
              "      <th>1</th>\n",
              "      <td>0.000000</td>\n",
              "      <td>thank you!! this would make my life a lot less...</td>\n",
              "    </tr>\n",
              "    <tr>\n",
              "      <th>2</th>\n",
              "      <td>0.000000</td>\n",
              "      <td>this is such an urgent design problem; kudos t...</td>\n",
              "    </tr>\n",
              "    <tr>\n",
              "      <th>3</th>\n",
              "      <td>0.000000</td>\n",
              "      <td>is this something i will be able to install on...</td>\n",
              "    </tr>\n",
              "    <tr>\n",
              "      <th>4</th>\n",
              "      <td>0.893617</td>\n",
              "      <td>haha you guys are a bunch of losers.</td>\n",
              "    </tr>\n",
              "    <tr>\n",
              "      <th>5</th>\n",
              "      <td>0.666667</td>\n",
              "      <td>ur a sh*tty comment.</td>\n",
              "    </tr>\n",
              "    <tr>\n",
              "      <th>6</th>\n",
              "      <td>0.457627</td>\n",
              "      <td>hahahahahahahahhha suck it.</td>\n",
              "    </tr>\n",
              "    <tr>\n",
              "      <th>7</th>\n",
              "      <td>0.000000</td>\n",
              "      <td>ffffuuuuuuuuuuuuuuu</td>\n",
              "    </tr>\n",
              "    <tr>\n",
              "      <th>8</th>\n",
              "      <td>0.000000</td>\n",
              "      <td>the ranchers seem motivated by mostly by greed...</td>\n",
              "    </tr>\n",
              "    <tr>\n",
              "      <th>9</th>\n",
              "      <td>0.000000</td>\n",
              "      <td>it was a great show. not a combo i would of ex...</td>\n",
              "    </tr>\n",
              "  </tbody>\n",
              "</table>\n",
              "</div>"
            ],
            "text/plain": [
              "     target                                       comment_text\n",
              "0  0.000000  this is so cool. it is like, 'would you want y...\n",
              "1  0.000000  thank you!! this would make my life a lot less...\n",
              "2  0.000000  this is such an urgent design problem; kudos t...\n",
              "3  0.000000  is this something i will be able to install on...\n",
              "4  0.893617               haha you guys are a bunch of losers.\n",
              "5  0.666667                               ur a sh*tty comment.\n",
              "6  0.457627                        hahahahahahahahhha suck it.\n",
              "7  0.000000                                ffffuuuuuuuuuuuuuuu\n",
              "8  0.000000  the ranchers seem motivated by mostly by greed...\n",
              "9  0.000000  it was a great show. not a combo i would of ex..."
            ]
          },
          "metadata": {
            "tags": []
          },
          "execution_count": 26
        }
      ]
    },
    {
      "cell_type": "markdown",
      "metadata": {
        "id": "GZDjkCulgrtd"
      },
      "source": [
        "## Special Characters"
      ]
    },
    {
      "cell_type": "code",
      "metadata": {
        "id": "aShiEGIRgv6_"
      },
      "source": [
        "punct = \"/-'?!.,#$%\\'()*+-/:;<=>@[\\\\]^_`{|}~\" + '\"\"“”’' + '∞θ÷α•à−β∅³π‘₹´°£€\\×™√²—–&'"
      ],
      "execution_count": 21,
      "outputs": []
    },
    {
      "cell_type": "code",
      "metadata": {
        "id": "_nBjwRYegxp8"
      },
      "source": [
        "specail_signs = { \"…\": \"...\", \"₂\": \"2\"}"
      ],
      "execution_count": 22,
      "outputs": []
    },
    {
      "cell_type": "code",
      "metadata": {
        "id": "zKa8_nOmgy2u"
      },
      "source": [
        "def clean_special_chars(text):\n",
        "    for s in specail_signs: \n",
        "        text = text.replace(s, specail_signs[s])\n",
        "    for p in punct:\n",
        "        text = text.replace(p, f' {p} ')\n",
        "    return text"
      ],
      "execution_count": 23,
      "outputs": []
    },
    {
      "cell_type": "code",
      "metadata": {
        "id": "fBClUXIsg20X"
      },
      "source": [
        "df_train[\"comment_text\"] = [clean_special_chars(text) for text in df_train[\"comment_text\"]]"
      ],
      "execution_count": 30,
      "outputs": []
    },
    {
      "cell_type": "code",
      "metadata": {
        "colab": {
          "base_uri": "https://localhost:8080/",
          "height": 359
        },
        "id": "CWPXQzjPtr0n",
        "outputId": "8c2c77eb-9849-41f9-b577-df0d18824561"
      },
      "source": [
        "df_train.head(10)"
      ],
      "execution_count": 31,
      "outputs": [
        {
          "output_type": "execute_result",
          "data": {
            "text/html": [
              "<div>\n",
              "<style scoped>\n",
              "    .dataframe tbody tr th:only-of-type {\n",
              "        vertical-align: middle;\n",
              "    }\n",
              "\n",
              "    .dataframe tbody tr th {\n",
              "        vertical-align: top;\n",
              "    }\n",
              "\n",
              "    .dataframe thead th {\n",
              "        text-align: right;\n",
              "    }\n",
              "</style>\n",
              "<table border=\"1\" class=\"dataframe\">\n",
              "  <thead>\n",
              "    <tr style=\"text-align: right;\">\n",
              "      <th></th>\n",
              "      <th>target</th>\n",
              "      <th>comment_text</th>\n",
              "    </tr>\n",
              "  </thead>\n",
              "  <tbody>\n",
              "    <tr>\n",
              "      <th>0</th>\n",
              "      <td>0.000000</td>\n",
              "      <td>this is so cool .  it is like ,    '  would yo...</td>\n",
              "    </tr>\n",
              "    <tr>\n",
              "      <th>1</th>\n",
              "      <td>0.000000</td>\n",
              "      <td>thank you !  !  this would make my life a lot ...</td>\n",
              "    </tr>\n",
              "    <tr>\n",
              "      <th>2</th>\n",
              "      <td>0.000000</td>\n",
              "      <td>this is such an urgent design problem ;  kudos...</td>\n",
              "    </tr>\n",
              "    <tr>\n",
              "      <th>3</th>\n",
              "      <td>0.000000</td>\n",
              "      <td>is this something i will be able to install on...</td>\n",
              "    </tr>\n",
              "    <tr>\n",
              "      <th>4</th>\n",
              "      <td>0.893617</td>\n",
              "      <td>haha you guys are a bunch of losers .</td>\n",
              "    </tr>\n",
              "    <tr>\n",
              "      <th>5</th>\n",
              "      <td>0.666667</td>\n",
              "      <td>ur a sh * tty comment .</td>\n",
              "    </tr>\n",
              "    <tr>\n",
              "      <th>6</th>\n",
              "      <td>0.457627</td>\n",
              "      <td>hahahahahahahahhha suck it .</td>\n",
              "    </tr>\n",
              "    <tr>\n",
              "      <th>7</th>\n",
              "      <td>0.000000</td>\n",
              "      <td>ffffuuuuuuuuuuuuuuu</td>\n",
              "    </tr>\n",
              "    <tr>\n",
              "      <th>8</th>\n",
              "      <td>0.000000</td>\n",
              "      <td>the ranchers seem motivated by mostly by greed...</td>\n",
              "    </tr>\n",
              "    <tr>\n",
              "      <th>9</th>\n",
              "      <td>0.000000</td>\n",
              "      <td>it was a great show .  not a combo i would of ...</td>\n",
              "    </tr>\n",
              "  </tbody>\n",
              "</table>\n",
              "</div>"
            ],
            "text/plain": [
              "     target                                       comment_text\n",
              "0  0.000000  this is so cool .  it is like ,    '  would yo...\n",
              "1  0.000000  thank you !  !  this would make my life a lot ...\n",
              "2  0.000000  this is such an urgent design problem ;  kudos...\n",
              "3  0.000000  is this something i will be able to install on...\n",
              "4  0.893617             haha you guys are a bunch of losers . \n",
              "5  0.666667                           ur a sh * tty comment . \n",
              "6  0.457627                      hahahahahahahahhha suck it . \n",
              "7  0.000000                                ffffuuuuuuuuuuuuuuu\n",
              "8  0.000000  the ranchers seem motivated by mostly by greed...\n",
              "9  0.000000  it was a great show .  not a combo i would of ..."
            ]
          },
          "metadata": {
            "tags": []
          },
          "execution_count": 31
        }
      ]
    },
    {
      "cell_type": "markdown",
      "metadata": {
        "id": "8KIEuZC4hXcl"
      },
      "source": [
        "## Special Caps"
      ]
    },
    {
      "cell_type": "code",
      "metadata": {
        "id": "bjiwhHe1hbwe"
      },
      "source": [
        "special_caps_mapping = { \n",
        "    \"ᴀ\": \"a\", \"ʙ\": \"b\", \"ᴄ\": \"c\", \"ᴅ\": \"d\", \"ᴇ\": \"e\", \"ғ\": \"f\", \"ɢ\": \"g\", \"ʜ\": \"h\", \"ɪ\": \"i\", \"ᴊ\": \"j\", \"ᴋ\": \"k\", \"ʟ\": \"l\", \"ᴍ\": \"m\",\n",
        "    \"ɴ\": \"n\", \"ᴏ\": \"o\", \"ᴘ\": \"p\", \"ǫ\": \"q\", \"ʀ\": \"r\", \"s\": \"s\", \"ᴛ\": \"t\", \"ᴜ\": \"u\", \"ᴠ\": \"v\", \"ᴡ\": \"w\", \"x\": \"x\", \"ʏ\": \"y\", \"ᴢ\": \"z\",\n",
        "    \"𝘊\": \"C\", \"𝘦\": \"e\", \"𝘳\": \"r\", \"𝘢\": \"a\", \"𝘵\": \"t\", \"𝘰\": \"o\", \"𝘤\": \"c\", \"𝘺\": \"y\", \"𝘴\": \"s\", \"𝘪\": \"i\", \"𝘧\": \"f\", \"𝘮\": \"m\", \"𝘣\": \"b\",\n",
        "    \"м\": \"m\", \"υ\": \"u\", \"т\": \"t\", \"ѕ\": \"s\", \"𝙀\": \"E\", \"𝒛\": \"z\", \"𝑲\": \"K\", \"𝑳\": \"L\", \"𝑾\": \"W\", \"𝒋\": \"j\", \"𝟒\": \"4\",\n",
        "    \"𝙒\": \"W\", \"𝘾\": \"C\", \"𝘽\": \"B\", \"𝑱\": \"J\", \"𝑹\": \"R\", \"𝑫\": \"D\", \"𝑵\": \"N\", \"𝑪\": \"C\", \"𝑯\": \"H\", \"𝒒\": \"q\", \"𝑮\": \"G\", \"𝗕\": \"B\", \"𝗴\": \"g\", \n",
        "    \"𝟐\": \"2\", \"𝗸\": \"k\", \"𝗟\": \"L\", \"𝗠\": \"M\", \"𝗷\": \"j\", \"𝐎\": \"O\", \"𝐍\": \"N\", \"𝐊\": \"K\", \"𝑭\": \"F\", \"Е\": \"E\"\n",
        "}"
      ],
      "execution_count": 24,
      "outputs": []
    },
    {
      "cell_type": "code",
      "metadata": {
        "id": "GjrKaTMMheFD"
      },
      "source": [
        "def clean_small_caps(text):\n",
        "    for char in special_caps_mapping:\n",
        "        text = text.replace(char, special_caps_mapping[char])\n",
        "    return text"
      ],
      "execution_count": 25,
      "outputs": []
    },
    {
      "cell_type": "code",
      "metadata": {
        "id": "R_MhXvsChhHy"
      },
      "source": [
        "df_train[\"comment_text\"] = [clean_small_caps(text) for text in df_train[\"comment_text\"]]"
      ],
      "execution_count": 34,
      "outputs": []
    },
    {
      "cell_type": "code",
      "metadata": {
        "colab": {
          "base_uri": "https://localhost:8080/",
          "height": 359
        },
        "id": "jezBtOShtrY_",
        "outputId": "35a8b85f-d4aa-491b-bcdd-39b0a00a1e57"
      },
      "source": [
        "df_train.head(10)"
      ],
      "execution_count": 35,
      "outputs": [
        {
          "output_type": "execute_result",
          "data": {
            "text/html": [
              "<div>\n",
              "<style scoped>\n",
              "    .dataframe tbody tr th:only-of-type {\n",
              "        vertical-align: middle;\n",
              "    }\n",
              "\n",
              "    .dataframe tbody tr th {\n",
              "        vertical-align: top;\n",
              "    }\n",
              "\n",
              "    .dataframe thead th {\n",
              "        text-align: right;\n",
              "    }\n",
              "</style>\n",
              "<table border=\"1\" class=\"dataframe\">\n",
              "  <thead>\n",
              "    <tr style=\"text-align: right;\">\n",
              "      <th></th>\n",
              "      <th>target</th>\n",
              "      <th>comment_text</th>\n",
              "    </tr>\n",
              "  </thead>\n",
              "  <tbody>\n",
              "    <tr>\n",
              "      <th>0</th>\n",
              "      <td>0.000000</td>\n",
              "      <td>this is so cool .  it is like ,    '  would yo...</td>\n",
              "    </tr>\n",
              "    <tr>\n",
              "      <th>1</th>\n",
              "      <td>0.000000</td>\n",
              "      <td>thank you !  !  this would make my life a lot ...</td>\n",
              "    </tr>\n",
              "    <tr>\n",
              "      <th>2</th>\n",
              "      <td>0.000000</td>\n",
              "      <td>this is such an urgent design problem ;  kudos...</td>\n",
              "    </tr>\n",
              "    <tr>\n",
              "      <th>3</th>\n",
              "      <td>0.000000</td>\n",
              "      <td>is this something i will be able to install on...</td>\n",
              "    </tr>\n",
              "    <tr>\n",
              "      <th>4</th>\n",
              "      <td>0.893617</td>\n",
              "      <td>haha you guys are a bunch of losers .</td>\n",
              "    </tr>\n",
              "    <tr>\n",
              "      <th>5</th>\n",
              "      <td>0.666667</td>\n",
              "      <td>ur a sh * tty comment .</td>\n",
              "    </tr>\n",
              "    <tr>\n",
              "      <th>6</th>\n",
              "      <td>0.457627</td>\n",
              "      <td>hahahahahahahahhha suck it .</td>\n",
              "    </tr>\n",
              "    <tr>\n",
              "      <th>7</th>\n",
              "      <td>0.000000</td>\n",
              "      <td>ffffuuuuuuuuuuuuuuu</td>\n",
              "    </tr>\n",
              "    <tr>\n",
              "      <th>8</th>\n",
              "      <td>0.000000</td>\n",
              "      <td>the ranchers seem motivated by mostly by greed...</td>\n",
              "    </tr>\n",
              "    <tr>\n",
              "      <th>9</th>\n",
              "      <td>0.000000</td>\n",
              "      <td>it was a great show .  not a combo i would of ...</td>\n",
              "    </tr>\n",
              "  </tbody>\n",
              "</table>\n",
              "</div>"
            ],
            "text/plain": [
              "     target                                       comment_text\n",
              "0  0.000000  this is so cool .  it is like ,    '  would yo...\n",
              "1  0.000000  thank you !  !  this would make my life a lot ...\n",
              "2  0.000000  this is such an urgent design problem ;  kudos...\n",
              "3  0.000000  is this something i will be able to install on...\n",
              "4  0.893617             haha you guys are a bunch of losers . \n",
              "5  0.666667                           ur a sh * tty comment . \n",
              "6  0.457627                      hahahahahahahahhha suck it . \n",
              "7  0.000000                                ffffuuuuuuuuuuuuuuu\n",
              "8  0.000000  the ranchers seem motivated by mostly by greed...\n",
              "9  0.000000  it was a great show .  not a combo i would of ..."
            ]
          },
          "metadata": {
            "tags": []
          },
          "execution_count": 35
        }
      ]
    },
    {
      "cell_type": "markdown",
      "metadata": {
        "id": "hQkZrItJh0NP"
      },
      "source": [
        "## Emojis"
      ]
    },
    {
      "cell_type": "code",
      "metadata": {
        "id": "QBPoQJ0koT1m",
        "colab": {
          "base_uri": "https://localhost:8080/",
          "height": 359
        },
        "outputId": "53f02d07-fb73-4ca7-dc52-f54db3e1f1ed"
      },
      "source": [
        "df_train.head(10)"
      ],
      "execution_count": 36,
      "outputs": [
        {
          "output_type": "execute_result",
          "data": {
            "text/html": [
              "<div>\n",
              "<style scoped>\n",
              "    .dataframe tbody tr th:only-of-type {\n",
              "        vertical-align: middle;\n",
              "    }\n",
              "\n",
              "    .dataframe tbody tr th {\n",
              "        vertical-align: top;\n",
              "    }\n",
              "\n",
              "    .dataframe thead th {\n",
              "        text-align: right;\n",
              "    }\n",
              "</style>\n",
              "<table border=\"1\" class=\"dataframe\">\n",
              "  <thead>\n",
              "    <tr style=\"text-align: right;\">\n",
              "      <th></th>\n",
              "      <th>target</th>\n",
              "      <th>comment_text</th>\n",
              "    </tr>\n",
              "  </thead>\n",
              "  <tbody>\n",
              "    <tr>\n",
              "      <th>0</th>\n",
              "      <td>0.000000</td>\n",
              "      <td>this is so cool .  it is like ,    '  would yo...</td>\n",
              "    </tr>\n",
              "    <tr>\n",
              "      <th>1</th>\n",
              "      <td>0.000000</td>\n",
              "      <td>thank you !  !  this would make my life a lot ...</td>\n",
              "    </tr>\n",
              "    <tr>\n",
              "      <th>2</th>\n",
              "      <td>0.000000</td>\n",
              "      <td>this is such an urgent design problem ;  kudos...</td>\n",
              "    </tr>\n",
              "    <tr>\n",
              "      <th>3</th>\n",
              "      <td>0.000000</td>\n",
              "      <td>is this something i will be able to install on...</td>\n",
              "    </tr>\n",
              "    <tr>\n",
              "      <th>4</th>\n",
              "      <td>0.893617</td>\n",
              "      <td>haha you guys are a bunch of losers .</td>\n",
              "    </tr>\n",
              "    <tr>\n",
              "      <th>5</th>\n",
              "      <td>0.666667</td>\n",
              "      <td>ur a sh * tty comment .</td>\n",
              "    </tr>\n",
              "    <tr>\n",
              "      <th>6</th>\n",
              "      <td>0.457627</td>\n",
              "      <td>hahahahahahahahhha suck it .</td>\n",
              "    </tr>\n",
              "    <tr>\n",
              "      <th>7</th>\n",
              "      <td>0.000000</td>\n",
              "      <td>ffffuuuuuuuuuuuuuuu</td>\n",
              "    </tr>\n",
              "    <tr>\n",
              "      <th>8</th>\n",
              "      <td>0.000000</td>\n",
              "      <td>the ranchers seem motivated by mostly by greed...</td>\n",
              "    </tr>\n",
              "    <tr>\n",
              "      <th>9</th>\n",
              "      <td>0.000000</td>\n",
              "      <td>it was a great show .  not a combo i would of ...</td>\n",
              "    </tr>\n",
              "  </tbody>\n",
              "</table>\n",
              "</div>"
            ],
            "text/plain": [
              "     target                                       comment_text\n",
              "0  0.000000  this is so cool .  it is like ,    '  would yo...\n",
              "1  0.000000  thank you !  !  this would make my life a lot ...\n",
              "2  0.000000  this is such an urgent design problem ;  kudos...\n",
              "3  0.000000  is this something i will be able to install on...\n",
              "4  0.893617             haha you guys are a bunch of losers . \n",
              "5  0.666667                           ur a sh * tty comment . \n",
              "6  0.457627                      hahahahahahahahhha suck it . \n",
              "7  0.000000                                ffffuuuuuuuuuuuuuuu\n",
              "8  0.000000  the ranchers seem motivated by mostly by greed...\n",
              "9  0.000000  it was a great show .  not a combo i would of ..."
            ]
          },
          "metadata": {
            "tags": []
          },
          "execution_count": 36
        }
      ]
    },
    {
      "cell_type": "code",
      "metadata": {
        "id": "CWWcqfixh2bC"
      },
      "source": [
        "emojis = \"🍕🐵😑😢🐶️😜😎👊😁😍💖💵👎😀😂🔥😄🏻💥😋👏😱🚌ᴵ͞🌟😊😳😧🙀😐😕👍😮😃😘💩💯⛽🚄😖🏼🚲😟😈💪🙏🎯🌹😇💔😡👌🙄😠😉😤⛺🙂😏🍾🎉😞🏾😅😭👻😥😔😓🏽🎆🍻🍽🎶🌺🤔😪🐰🐇🐱🙆😨🙃💕💗💚🙈😴🏿🤗🇺🇸⤵🏆🎃😩👮💙🐾🐕😆🌠🐟💫💰💎🖐🙅⛲🍰🤐👆🙌💛🙁👀🙊🙉🚬🤓😵😒͝🆕👅👥👄🔄🔤👉👤👶👲🔛🎓😣⏺😌🤑🌏😯😲💞🚓🔔📚🏀👐💤🍇🏡❔⁉👠》🇹🇼🌸🌞🎲😛💋💀🎄💜🤢َِ🗑💃📣👿༼つ༽😰🤣🐝🎅🍺🎵🌎͟🤡🤥😬🤧🚀🤴😝💨🏈😺🌍⏏ệ🍔🐮🍁🍆🍑🌮🌯🤦🍀😫🤤🎼🕺🍸🥂🗽🎇🎊🆘🤠👩🖒🚪🇫🇷🇩🇪😷🇨🇦🌐📺🐋💘💓💐🌋🌄🌅👺🐷🚶🤘ͦ💸👂👃🎫🚢🚂🏃👽😙🎾👹⎌🏒⛸🏄🐀🚑🤷🤙🐒🐈ﷻ🦄🚗🐳👇⛷👋🦊🐽🎻🎹⛓🏹🍷🦆♾🎸🤕🤒⛑🎁🏝🦁🙋😶🔫👁💲🗯👑🚿💡😦🏐🇰🇵👾🐄🎈🔨🐎🤞🐸💟🎰🌝🛳🍭👣🏉💭🎥🐴👨🤳🦍🍩😗🏂👳🍗🕉🐲🍒🐑⏰💊🌤🍊🔹🤚🍎𝑷🐂💅💢💒🚴🖕🖤🥘📍👈➕🚫🎨🌑🐻🤖🎎😼🕷👼📉🍟🍦🌈🔭《🐊🐍🐦🐡💳ἱ🙇🥜🔼\""
      ],
      "execution_count": 26,
      "outputs": []
    },
    {
      "cell_type": "code",
      "metadata": {
        "id": "Ob1042j_ti53"
      },
      "source": [
        "def remove_emojis(text):\n",
        "    for emoji in emojis:\n",
        "        text = text.replace(emoji, '')\n",
        "    return text"
      ],
      "execution_count": 27,
      "outputs": []
    },
    {
      "cell_type": "code",
      "metadata": {
        "id": "qXa1aO15tjsy"
      },
      "source": [
        "df_train[\"comment_text\"] = [remove_emojis(text) for text in df_train[\"comment_text\"]]"
      ],
      "execution_count": 39,
      "outputs": []
    },
    {
      "cell_type": "code",
      "metadata": {
        "colab": {
          "base_uri": "https://localhost:8080/",
          "height": 359
        },
        "id": "FNhLxBPztqAQ",
        "outputId": "e4d7d2be-280a-40bb-e1de-32504022b04a"
      },
      "source": [
        "df_train.head(10)"
      ],
      "execution_count": 40,
      "outputs": [
        {
          "output_type": "execute_result",
          "data": {
            "text/html": [
              "<div>\n",
              "<style scoped>\n",
              "    .dataframe tbody tr th:only-of-type {\n",
              "        vertical-align: middle;\n",
              "    }\n",
              "\n",
              "    .dataframe tbody tr th {\n",
              "        vertical-align: top;\n",
              "    }\n",
              "\n",
              "    .dataframe thead th {\n",
              "        text-align: right;\n",
              "    }\n",
              "</style>\n",
              "<table border=\"1\" class=\"dataframe\">\n",
              "  <thead>\n",
              "    <tr style=\"text-align: right;\">\n",
              "      <th></th>\n",
              "      <th>target</th>\n",
              "      <th>comment_text</th>\n",
              "    </tr>\n",
              "  </thead>\n",
              "  <tbody>\n",
              "    <tr>\n",
              "      <th>0</th>\n",
              "      <td>0.000000</td>\n",
              "      <td>this is so cool .  it is like ,    '  would yo...</td>\n",
              "    </tr>\n",
              "    <tr>\n",
              "      <th>1</th>\n",
              "      <td>0.000000</td>\n",
              "      <td>thank you !  !  this would make my life a lot ...</td>\n",
              "    </tr>\n",
              "    <tr>\n",
              "      <th>2</th>\n",
              "      <td>0.000000</td>\n",
              "      <td>this is such an urgent design problem ;  kudos...</td>\n",
              "    </tr>\n",
              "    <tr>\n",
              "      <th>3</th>\n",
              "      <td>0.000000</td>\n",
              "      <td>is this something i will be able to install on...</td>\n",
              "    </tr>\n",
              "    <tr>\n",
              "      <th>4</th>\n",
              "      <td>0.893617</td>\n",
              "      <td>haha you guys are a bunch of losers .</td>\n",
              "    </tr>\n",
              "    <tr>\n",
              "      <th>5</th>\n",
              "      <td>0.666667</td>\n",
              "      <td>ur a sh * tty comment .</td>\n",
              "    </tr>\n",
              "    <tr>\n",
              "      <th>6</th>\n",
              "      <td>0.457627</td>\n",
              "      <td>hahahahahahahahhha suck it .</td>\n",
              "    </tr>\n",
              "    <tr>\n",
              "      <th>7</th>\n",
              "      <td>0.000000</td>\n",
              "      <td>ffffuuuuuuuuuuuuuuu</td>\n",
              "    </tr>\n",
              "    <tr>\n",
              "      <th>8</th>\n",
              "      <td>0.000000</td>\n",
              "      <td>the ranchers seem motivated by mostly by greed...</td>\n",
              "    </tr>\n",
              "    <tr>\n",
              "      <th>9</th>\n",
              "      <td>0.000000</td>\n",
              "      <td>it was a great show .  not a combo i would of ...</td>\n",
              "    </tr>\n",
              "  </tbody>\n",
              "</table>\n",
              "</div>"
            ],
            "text/plain": [
              "     target                                       comment_text\n",
              "0  0.000000  this is so cool .  it is like ,    '  would yo...\n",
              "1  0.000000  thank you !  !  this would make my life a lot ...\n",
              "2  0.000000  this is such an urgent design problem ;  kudos...\n",
              "3  0.000000  is this something i will be able to install on...\n",
              "4  0.893617             haha you guys are a bunch of losers . \n",
              "5  0.666667                           ur a sh * tty comment . \n",
              "6  0.457627                      hahahahahahahahhha suck it . \n",
              "7  0.000000                                ffffuuuuuuuuuuuuuuu\n",
              "8  0.000000  the ranchers seem motivated by mostly by greed...\n",
              "9  0.000000  it was a great show .  not a combo i would of ..."
            ]
          },
          "metadata": {
            "tags": []
          },
          "execution_count": 40
        }
      ]
    },
    {
      "cell_type": "markdown",
      "metadata": {
        "id": "QpXuSf84mnP7"
      },
      "source": [
        "## Stemmer"
      ]
    },
    {
      "cell_type": "code",
      "metadata": {
        "id": "nhXUh2Simp0F"
      },
      "source": [
        "stemmer = nltk.stem.PorterStemmer()"
      ],
      "execution_count": 28,
      "outputs": []
    },
    {
      "cell_type": "code",
      "metadata": {
        "id": "M-JjL5gSmtGe"
      },
      "source": [
        "def cleaning(text):\n",
        "    row = str(text)\n",
        "    row = row.replace('\\n', ' ')\n",
        "    row = row.replace('\\t', ' ')\n",
        "    row = row.replace('\\\\', \"\")\n",
        "    row = re.sub('[!\"#$%&\\'()*+,-./:;<=>?@[\\\\]^_`{|}~]', '', row)\n",
        "    row = re.sub(' +', ' ', row)\n",
        "    row = row.replace(\"।\", \"\")\n",
        "    row = re.sub('[1234567890]', '', row) \n",
        "    row = row.replace('’', '')\n",
        "    row = row.replace('‘', '')\n",
        "    \n",
        "    row = row.split()\n",
        "    row = [w for w in row]\n",
        "    row = [stemmer.stem(w) for w in row]\n",
        "    row = \" \".join(row)\n",
        "    return row"
      ],
      "execution_count": 29,
      "outputs": []
    },
    {
      "cell_type": "code",
      "metadata": {
        "id": "BHxf14ZZn5Fd"
      },
      "source": [
        "df_train[\"comment_text\"] = [cleaning(text) for text in df_train[\"comment_text\"]]"
      ],
      "execution_count": null,
      "outputs": []
    },
    {
      "cell_type": "code",
      "metadata": {
        "id": "Z_RCVEW5sRO8"
      },
      "source": [
        "df_train.head(10)"
      ],
      "execution_count": null,
      "outputs": []
    },
    {
      "cell_type": "code",
      "metadata": {
        "id": "A7ZYxs-O2OpF"
      },
      "source": [
        "df_train.to_csv('/content/drive/MyDrive/Upskill/project2/data/train_clean.csv')"
      ],
      "execution_count": null,
      "outputs": []
    },
    {
      "cell_type": "markdown",
      "metadata": {
        "id": "Mq0MKjwr6dbZ"
      },
      "source": [
        "# TRAIN TEST SPLIT"
      ]
    },
    {
      "cell_type": "code",
      "metadata": {
        "id": "9WX-nfDTBv3w"
      },
      "source": [
        "df_train = pd.read_csv('/content/drive/MyDrive/Upskill/project2/data/train_clean.csv')"
      ],
      "execution_count": 2,
      "outputs": []
    },
    {
      "cell_type": "code",
      "metadata": {
        "colab": {
          "base_uri": "https://localhost:8080/",
          "height": 359
        },
        "id": "eNdAMy4qD8Oa",
        "outputId": "7c6b1038-09a7-423f-b9c0-8f3103ce5847"
      },
      "source": [
        "df_train.head(10)"
      ],
      "execution_count": 3,
      "outputs": [
        {
          "output_type": "execute_result",
          "data": {
            "text/html": [
              "<div>\n",
              "<style scoped>\n",
              "    .dataframe tbody tr th:only-of-type {\n",
              "        vertical-align: middle;\n",
              "    }\n",
              "\n",
              "    .dataframe tbody tr th {\n",
              "        vertical-align: top;\n",
              "    }\n",
              "\n",
              "    .dataframe thead th {\n",
              "        text-align: right;\n",
              "    }\n",
              "</style>\n",
              "<table border=\"1\" class=\"dataframe\">\n",
              "  <thead>\n",
              "    <tr style=\"text-align: right;\">\n",
              "      <th></th>\n",
              "      <th>Unnamed: 0</th>\n",
              "      <th>target</th>\n",
              "      <th>comment_text</th>\n",
              "    </tr>\n",
              "  </thead>\n",
              "  <tbody>\n",
              "    <tr>\n",
              "      <th>0</th>\n",
              "      <td>0</td>\n",
              "      <td>0.000000</td>\n",
              "      <td>thi is so cool it is like would you want your ...</td>\n",
              "    </tr>\n",
              "    <tr>\n",
              "      <th>1</th>\n",
              "      <td>1</td>\n",
              "      <td>0.000000</td>\n",
              "      <td>thank you thi would make my life a lot less an...</td>\n",
              "    </tr>\n",
              "    <tr>\n",
              "      <th>2</th>\n",
              "      <td>2</td>\n",
              "      <td>0.000000</td>\n",
              "      <td>thi is such an urgent design problem kudo to y...</td>\n",
              "    </tr>\n",
              "    <tr>\n",
              "      <th>3</th>\n",
              "      <td>3</td>\n",
              "      <td>0.000000</td>\n",
              "      <td>is thi someth i will be abl to instal on my si...</td>\n",
              "    </tr>\n",
              "    <tr>\n",
              "      <th>4</th>\n",
              "      <td>4</td>\n",
              "      <td>0.893617</td>\n",
              "      <td>haha you guy are a bunch of loser</td>\n",
              "    </tr>\n",
              "    <tr>\n",
              "      <th>5</th>\n",
              "      <td>5</td>\n",
              "      <td>0.666667</td>\n",
              "      <td>ur a sh tti comment</td>\n",
              "    </tr>\n",
              "    <tr>\n",
              "      <th>6</th>\n",
              "      <td>6</td>\n",
              "      <td>0.457627</td>\n",
              "      <td>hahahahahahahahhha suck it</td>\n",
              "    </tr>\n",
              "    <tr>\n",
              "      <th>7</th>\n",
              "      <td>7</td>\n",
              "      <td>0.000000</td>\n",
              "      <td>ffffuuuuuuuuuuuuuuu</td>\n",
              "    </tr>\n",
              "    <tr>\n",
              "      <th>8</th>\n",
              "      <td>8</td>\n",
              "      <td>0.000000</td>\n",
              "      <td>the rancher seem motiv by mostli by greed no o...</td>\n",
              "    </tr>\n",
              "    <tr>\n",
              "      <th>9</th>\n",
              "      <td>9</td>\n",
              "      <td>0.000000</td>\n",
              "      <td>it wa a great show not a combo i would of expe...</td>\n",
              "    </tr>\n",
              "  </tbody>\n",
              "</table>\n",
              "</div>"
            ],
            "text/plain": [
              "   Unnamed: 0    target                                       comment_text\n",
              "0           0  0.000000  thi is so cool it is like would you want your ...\n",
              "1           1  0.000000  thank you thi would make my life a lot less an...\n",
              "2           2  0.000000  thi is such an urgent design problem kudo to y...\n",
              "3           3  0.000000  is thi someth i will be abl to instal on my si...\n",
              "4           4  0.893617                  haha you guy are a bunch of loser\n",
              "5           5  0.666667                                ur a sh tti comment\n",
              "6           6  0.457627                         hahahahahahahahhha suck it\n",
              "7           7  0.000000                                ffffuuuuuuuuuuuuuuu\n",
              "8           8  0.000000  the rancher seem motiv by mostli by greed no o...\n",
              "9           9  0.000000  it wa a great show not a combo i would of expe..."
            ]
          },
          "metadata": {
            "tags": []
          },
          "execution_count": 3
        }
      ]
    },
    {
      "cell_type": "code",
      "metadata": {
        "id": "A7s-OXqX6fGa"
      },
      "source": [
        "x = df_train['comment_text']\n",
        "y = df_train['target']\n",
        "del df_train\n",
        "X_train, X_test, y_train, y_test = train_test_split(x, y, test_size= 0.2, random_state=13)"
      ],
      "execution_count": 4,
      "outputs": []
    },
    {
      "cell_type": "markdown",
      "metadata": {
        "id": "lBL9vImyw-n9"
      },
      "source": [
        "# VECTORIZER"
      ]
    },
    {
      "cell_type": "code",
      "metadata": {
        "id": "p7swBDeyxAxb"
      },
      "source": [
        "from sklearn.feature_extraction.text import CountVectorizer\n",
        "count_vec = CountVectorizer(stop_words=\"english\", analyzer='word', \n",
        "                            ngram_range=(1, 1), max_df=1.0, min_df=1, max_features=None)"
      ],
      "execution_count": 5,
      "outputs": []
    },
    {
      "cell_type": "markdown",
      "metadata": {
        "id": "vbjfVig34s-8"
      },
      "source": [
        "# TRAIN & TEST"
      ]
    },
    {
      "cell_type": "code",
      "metadata": {
        "id": "Cz-oIYqQKmie"
      },
      "source": [
        "y_train = y_train.tolist()"
      ],
      "execution_count": 6,
      "outputs": []
    },
    {
      "cell_type": "code",
      "metadata": {
        "id": "RU52LX-jFK0-"
      },
      "source": [
        "for i in range(len(y_train)):\n",
        "  if (y_train[i]>=0.5):\n",
        "    y_train[i] = 1\n",
        "  else:\n",
        "    y_train[i] = 0"
      ],
      "execution_count": 7,
      "outputs": []
    },
    {
      "cell_type": "code",
      "metadata": {
        "id": "oOl0WamvLItn"
      },
      "source": [
        "y_test = y_test.tolist()"
      ],
      "execution_count": 8,
      "outputs": []
    },
    {
      "cell_type": "code",
      "metadata": {
        "id": "hyaeHnwdLEF9"
      },
      "source": [
        "for i in range(len(y_test)):\n",
        "  if (y_test[i]>=0.5):\n",
        "    y_test[i] = 1\n",
        "  else:\n",
        "    y_test[i] = 0"
      ],
      "execution_count": 9,
      "outputs": []
    },
    {
      "cell_type": "code",
      "metadata": {
        "colab": {
          "base_uri": "https://localhost:8080/"
        },
        "id": "jRJm3Fbt4sao",
        "outputId": "00e96547-b1b3-4e6a-8078-3733901308d9"
      },
      "source": [
        "train_features = count_vec.fit_transform(X_train.values.astype(str))\n",
        "test_features = count_vec.transform(X_test.values.astype(str))\n",
        "\n",
        "del X_train\n",
        "del X_test\n",
        "\n",
        "\n",
        "\n",
        "from sklearn.linear_model import LogisticRegression\n",
        "Log_Reg = LogisticRegression(random_state=0, solver='lbfgs')\n",
        "\n",
        "Log_Reg.fit(train_features , y_train)\n",
        "accuracy = Log_Reg.score(test_features, y_test)\n",
        "\n",
        "print(accuracy)"
      ],
      "execution_count": 10,
      "outputs": [
        {
          "output_type": "stream",
          "text": [
            "/usr/local/lib/python3.7/dist-packages/sklearn/linear_model/_logistic.py:940: ConvergenceWarning: lbfgs failed to converge (status=1):\n",
            "STOP: TOTAL NO. of ITERATIONS REACHED LIMIT.\n",
            "\n",
            "Increase the number of iterations (max_iter) or scale the data as shown in:\n",
            "    https://scikit-learn.org/stable/modules/preprocessing.html\n",
            "Please also refer to the documentation for alternative solver options:\n",
            "    https://scikit-learn.org/stable/modules/linear_model.html#logistic-regression\n",
            "  extra_warning_msg=_LOGISTIC_SOLVER_CONVERGENCE_MSG)\n"
          ],
          "name": "stderr"
        },
        {
          "output_type": "stream",
          "text": [
            "0.941782671930189\n"
          ],
          "name": "stdout"
        }
      ]
    },
    {
      "cell_type": "code",
      "metadata": {
        "id": "vFHj1A9fNfij"
      },
      "source": [
        "y_pred = Log_Reg.predict(test_features)"
      ],
      "execution_count": 11,
      "outputs": []
    },
    {
      "cell_type": "code",
      "metadata": {
        "id": "zKEbq9fbZXlb"
      },
      "source": [
        "import pickle\n",
        "pickle.dump(Log_Reg, open('/content/drive/MyDrive/Upskill/project2/data/model1', 'wb'))"
      ],
      "execution_count": 12,
      "outputs": []
    },
    {
      "cell_type": "code",
      "metadata": {
        "colab": {
          "base_uri": "https://localhost:8080/"
        },
        "id": "VX037PUaYWdH",
        "outputId": "1b970445-dff8-41da-c798-84338ddc4d5b"
      },
      "source": [
        "from sklearn.metrics import classification_report\n",
        "\n",
        "print(classification_report(y_test, y_pred))"
      ],
      "execution_count": 13,
      "outputs": [
        {
          "output_type": "stream",
          "text": [
            "              precision    recall  f1-score   support\n",
            "\n",
            "           0       0.95      0.98      0.97    331908\n",
            "           1       0.72      0.45      0.55     29067\n",
            "\n",
            "    accuracy                           0.94    360975\n",
            "   macro avg       0.84      0.72      0.76    360975\n",
            "weighted avg       0.93      0.94      0.94    360975\n",
            "\n"
          ],
          "name": "stdout"
        }
      ]
    },
    {
      "cell_type": "code",
      "metadata": {
        "colab": {
          "base_uri": "https://localhost:8080/"
        },
        "id": "d6aQlUUeZlQP",
        "outputId": "a1eb12a6-7ea6-4b08-a3b0-0082587632cd"
      },
      "source": [
        "cm = confusion_matrix(y_test, y_pred, labels=np.unique(y_test))\n",
        "print(cm)"
      ],
      "execution_count": 14,
      "outputs": [
        {
          "output_type": "stream",
          "text": [
            "[[326880   5028]\n",
            " [ 15987  13080]]\n"
          ],
          "name": "stdout"
        }
      ]
    },
    {
      "cell_type": "code",
      "metadata": {
        "colab": {
          "base_uri": "https://localhost:8080/",
          "height": 282
        },
        "id": "EGQyqbxdaCAF",
        "outputId": "89c1bd09-873a-4799-c293-972581af856c"
      },
      "source": [
        "sns.heatmap(cm, cmap= \"YlGnBu\", annot=True, fmt='')"
      ],
      "execution_count": 15,
      "outputs": [
        {
          "output_type": "execute_result",
          "data": {
            "text/plain": [
              "<matplotlib.axes._subplots.AxesSubplot at 0x7efbb00ba0d0>"
            ]
          },
          "metadata": {
            "tags": []
          },
          "execution_count": 15
        },
        {
          "output_type": "display_data",
          "data": {
            "image/png": "[encoded data removed]",
            "text/plain": [
              "<Figure size 432x288 with 2 Axes>"
            ]
          },
          "metadata": {
            "tags": [],
            "needs_background": "light"
          }
        }
      ]
    },
    {
      "cell_type": "markdown",
      "metadata": {
        "id": "cXXT9ipbaOX2"
      },
      "source": [
        "# SUBMISSION GENERATION"
      ]
    },
    {
      "cell_type": "code",
      "metadata": {
        "id": "RzXyX_7oadfZ"
      },
      "source": [
        "df_test = pd.read_csv('/content/drive/MyDrive/Upskill/project2/data/test.csv')"
      ],
      "execution_count": 48,
      "outputs": []
    },
    {
      "cell_type": "code",
      "metadata": {
        "colab": {
          "base_uri": "https://localhost:8080/",
          "height": 359
        },
        "id": "xuDTIis-bKqs",
        "outputId": "4d9aeef8-08a4-49cb-90ed-ecb9de224e74"
      },
      "source": [
        "df_test.head(10)"
      ],
      "execution_count": 17,
      "outputs": [
        {
          "output_type": "execute_result",
          "data": {
            "text/html": [
              "<div>\n",
              "<style scoped>\n",
              "    .dataframe tbody tr th:only-of-type {\n",
              "        vertical-align: middle;\n",
              "    }\n",
              "\n",
              "    .dataframe tbody tr th {\n",
              "        vertical-align: top;\n",
              "    }\n",
              "\n",
              "    .dataframe thead th {\n",
              "        text-align: right;\n",
              "    }\n",
              "</style>\n",
              "<table border=\"1\" class=\"dataframe\">\n",
              "  <thead>\n",
              "    <tr style=\"text-align: right;\">\n",
              "      <th></th>\n",
              "      <th>id</th>\n",
              "      <th>comment_text</th>\n",
              "    </tr>\n",
              "  </thead>\n",
              "  <tbody>\n",
              "    <tr>\n",
              "      <th>0</th>\n",
              "      <td>7097320</td>\n",
              "      <td>[ Integrity means that you pay your debts.]\\n\\...</td>\n",
              "    </tr>\n",
              "    <tr>\n",
              "      <th>1</th>\n",
              "      <td>7097321</td>\n",
              "      <td>This is malfeasance by the Administrator and t...</td>\n",
              "    </tr>\n",
              "    <tr>\n",
              "      <th>2</th>\n",
              "      <td>7097322</td>\n",
              "      <td>@Rmiller101 - Spoken like a true elitist. But ...</td>\n",
              "    </tr>\n",
              "    <tr>\n",
              "      <th>3</th>\n",
              "      <td>7097323</td>\n",
              "      <td>Paul: Thank you for your kind words.  I do, in...</td>\n",
              "    </tr>\n",
              "    <tr>\n",
              "      <th>4</th>\n",
              "      <td>7097324</td>\n",
              "      <td>Sorry you missed high school. Eisenhower sent ...</td>\n",
              "    </tr>\n",
              "    <tr>\n",
              "      <th>5</th>\n",
              "      <td>7097325</td>\n",
              "      <td>Let’s see if I understand this; Berkowitz anno...</td>\n",
              "    </tr>\n",
              "    <tr>\n",
              "      <th>6</th>\n",
              "      <td>7097326</td>\n",
              "      <td>Our oils read;  President IS taking different ...</td>\n",
              "    </tr>\n",
              "    <tr>\n",
              "      <th>7</th>\n",
              "      <td>7097327</td>\n",
              "      <td>'Work together'? Dream on. The liberals are al...</td>\n",
              "    </tr>\n",
              "    <tr>\n",
              "      <th>8</th>\n",
              "      <td>7097328</td>\n",
              "      <td>What would Jerry Prevo think about that story?...</td>\n",
              "    </tr>\n",
              "    <tr>\n",
              "      <th>9</th>\n",
              "      <td>7097329</td>\n",
              "      <td>When wil the  indigenous  be accountable and t...</td>\n",
              "    </tr>\n",
              "  </tbody>\n",
              "</table>\n",
              "</div>"
            ],
            "text/plain": [
              "        id                                       comment_text\n",
              "0  7097320  [ Integrity means that you pay your debts.]\\n\\...\n",
              "1  7097321  This is malfeasance by the Administrator and t...\n",
              "2  7097322  @Rmiller101 - Spoken like a true elitist. But ...\n",
              "3  7097323  Paul: Thank you for your kind words.  I do, in...\n",
              "4  7097324  Sorry you missed high school. Eisenhower sent ...\n",
              "5  7097325  Let’s see if I understand this; Berkowitz anno...\n",
              "6  7097326  Our oils read;  President IS taking different ...\n",
              "7  7097327  'Work together'? Dream on. The liberals are al...\n",
              "8  7097328  What would Jerry Prevo think about that story?...\n",
              "9  7097329  When wil the  indigenous  be accountable and t..."
            ]
          },
          "metadata": {
            "tags": []
          },
          "execution_count": 17
        }
      ]
    },
    {
      "cell_type": "code",
      "metadata": {
        "id": "XxMQ2Xt5akRD"
      },
      "source": [
        "#Cleaning\n",
        "df_test[\"comment_text\"] = [text.lower() for text in df_test[\"comment_text\"]]\n",
        "df_test[\"comment_text\"] = [clean_contractions(text) for text in df_test[\"comment_text\"]]\n",
        "df_test[\"comment_text\"] = [clean_special_chars(text) for text in df_test[\"comment_text\"]]\n",
        "df_test[\"comment_text\"] = [clean_small_caps(text) for text in df_test[\"comment_text\"]]\n",
        "df_test[\"comment_text\"] = [remove_emojis(text) for text in df_test[\"comment_text\"]]\n",
        "df_test[\"comment_text\"] = [cleaning(text) for text in df_test[\"comment_text\"]]"
      ],
      "execution_count": 30,
      "outputs": []
    },
    {
      "cell_type": "code",
      "metadata": {
        "colab": {
          "base_uri": "https://localhost:8080/",
          "height": 359
        },
        "id": "kRvG-6lXbPtN",
        "outputId": "c24c9e8c-dfc1-42c1-e8f4-7d1318de3f8f"
      },
      "source": [
        "df_test.head(10)"
      ],
      "execution_count": 31,
      "outputs": [
        {
          "output_type": "execute_result",
          "data": {
            "text/html": [
              "<div>\n",
              "<style scoped>\n",
              "    .dataframe tbody tr th:only-of-type {\n",
              "        vertical-align: middle;\n",
              "    }\n",
              "\n",
              "    .dataframe tbody tr th {\n",
              "        vertical-align: top;\n",
              "    }\n",
              "\n",
              "    .dataframe thead th {\n",
              "        text-align: right;\n",
              "    }\n",
              "</style>\n",
              "<table border=\"1\" class=\"dataframe\">\n",
              "  <thead>\n",
              "    <tr style=\"text-align: right;\">\n",
              "      <th></th>\n",
              "      <th>id</th>\n",
              "      <th>comment_text</th>\n",
              "    </tr>\n",
              "  </thead>\n",
              "  <tbody>\n",
              "    <tr>\n",
              "      <th>0</th>\n",
              "      <td>7097320</td>\n",
              "      <td>integr mean that you pay your debt doe thi app...</td>\n",
              "    </tr>\n",
              "    <tr>\n",
              "      <th>1</th>\n",
              "      <td>7097321</td>\n",
              "      <td>thi is malfeas by the administr and the board ...</td>\n",
              "    </tr>\n",
              "    <tr>\n",
              "      <th>2</th>\n",
              "      <td>7097322</td>\n",
              "      <td>rmiller spoken like a true elitist but look ou...</td>\n",
              "    </tr>\n",
              "    <tr>\n",
              "      <th>3</th>\n",
              "      <td>7097323</td>\n",
              "      <td>paul thank you for your kind word i do inde ha...</td>\n",
              "    </tr>\n",
              "    <tr>\n",
              "      <th>4</th>\n",
              "      <td>7097324</td>\n",
              "      <td>sorri you miss high school eisenhow sent troop...</td>\n",
              "    </tr>\n",
              "    <tr>\n",
              "      <th>5</th>\n",
              "      <td>7097325</td>\n",
              "      <td>let us see if i understand thi berkowitz annou...</td>\n",
              "    </tr>\n",
              "    <tr>\n",
              "      <th>6</th>\n",
              "      <td>7097326</td>\n",
              "      <td>our oil read presid is take differ tactic to d...</td>\n",
              "    </tr>\n",
              "    <tr>\n",
              "      <th>7</th>\n",
              "      <td>7097327</td>\n",
              "      <td>work togeth dream on the liber are alreadi bus...</td>\n",
              "    </tr>\n",
              "    <tr>\n",
              "      <th>8</th>\n",
              "      <td>7097328</td>\n",
              "      <td>what would jerri prevo think about that stori ...</td>\n",
              "    </tr>\n",
              "    <tr>\n",
              "      <th>9</th>\n",
              "      <td>7097329</td>\n",
              "      <td>when wil the indigen be account and take respo...</td>\n",
              "    </tr>\n",
              "  </tbody>\n",
              "</table>\n",
              "</div>"
            ],
            "text/plain": [
              "        id                                       comment_text\n",
              "0  7097320  integr mean that you pay your debt doe thi app...\n",
              "1  7097321  thi is malfeas by the administr and the board ...\n",
              "2  7097322  rmiller spoken like a true elitist but look ou...\n",
              "3  7097323  paul thank you for your kind word i do inde ha...\n",
              "4  7097324  sorri you miss high school eisenhow sent troop...\n",
              "5  7097325  let us see if i understand thi berkowitz annou...\n",
              "6  7097326  our oil read presid is take differ tactic to d...\n",
              "7  7097327  work togeth dream on the liber are alreadi bus...\n",
              "8  7097328  what would jerri prevo think about that stori ...\n",
              "9  7097329  when wil the indigen be account and take respo..."
            ]
          },
          "metadata": {
            "tags": []
          },
          "execution_count": 31
        }
      ]
    },
    {
      "cell_type": "code",
      "metadata": {
        "id": "CQyq_GMdb0XF"
      },
      "source": [
        "test_features = count_vec.transform(df_test[\"comment_text\"].values.astype(str))"
      ],
      "execution_count": 32,
      "outputs": []
    },
    {
      "cell_type": "code",
      "metadata": {
        "id": "PHDpy-v_aW0E"
      },
      "source": [
        "y = Log_Reg.predict(test_features)"
      ],
      "execution_count": 43,
      "outputs": []
    },
    {
      "cell_type": "code",
      "metadata": {
        "id": "W4PEcpm-mYiJ"
      },
      "source": [
        "df_test['prediction'] = y"
      ],
      "execution_count": 49,
      "outputs": []
    },
    {
      "cell_type": "code",
      "metadata": {
        "colab": {
          "base_uri": "https://localhost:8080/"
        },
        "id": "ppojtbbom-_9",
        "outputId": "43cf42c0-67e2-450f-b2c4-b15535f65273"
      },
      "source": [
        "for index, rows in df_test[df_test['prediction'] == 1].head(100).iterrows():\n",
        "  print(index, rows['comment_text'])"
      ],
      "execution_count": 52,
      "outputs": [
        {
          "output_type": "stream",
          "text": [
            "6 Our oils read;  President IS taking different tactics to deal with a corrupt malignant, hipoctitical , one way press!\n",
            "Idiots forget what witnessed them doing during the last election process.\n",
            "35 The profoundly stupid have spoken.\n",
            "82 Hey Dallas, Don't let the Iditarod get the best of you.  Do the 2018 race.  Yes, the ITC is a bunch of malicious idiots.  But they will all retire/die soon, long before your career is even half over.  They can't charge you with anything because of the way the rules are for 2017 (the ITC has to prove intent, but they can't).  So get back to training your dogs, win the 2018 race ... and give the senile geezers of the ITC the finger.\n",
            "83 I can't believe this country was so stupid.. -totally dumbstruck- you get what you get and don't throw a fit!\n",
            "131 In regard to the \"ring wing gun nuts\" who haven't shot anyone . . . consider the gun nut Bundy followers who in 2014 shot and killed two police officers in Las Vegas:\n",
            "\n",
            "\"The Las Vegas Sun reported that residents of the apartment building where the Millers lived said they 'had a reputation for spouting racist, anti-government views, bragging about their gun collection, and boasting that they’d spent time at Cliven Bundy’s ranch during a recent standoff there between armed militia members and federal government agents.'\"\n",
            "\n",
            "Violent extremism, whether anarchist, liberationist, reactionary, fascist, racist or just plain crazy, is still violent.\n",
            "154 If a News person dies for ratings are we suppose to cry or cheer ?\n",
            "Get away from the storm you idiots!!!!!!!!!!!\n",
            "200 Trump doesn't need no damn intelligence...he's already smart!  Said so himself.\n",
            "224 Sounds more like the Antifascists are the real fascists...hey Antifa, have you suppressed opposing speech yet today? Attacked those you disagree with? Burned any buildings or cars?Those fools are so stupid they actually think they are espousing Americans traits...\n",
            "\n",
            "Definition of fascism 1 often capitalized : a political philosophy, movement, or regime (such as that of the Fascisti) that exalts nation and often race above the individual and that stands for a centralized autocratic government headed by a dictatorial leader, severe economic and social regimentation, and forcible suppression of opposition\n",
            "244 Wow- new owners and already fresh, diverse opinions that are NOT from the Washington Post or New York Times!  I applaud Christine Flowers' unmasking of 3rd wave feminism and Leftist identity politics has made for itself-- largely fake campus \"rape culture,\" perpetuated largely by campus feminist groups.  After the 'Rolling Stone' falsifed its campus rape story, coupled with the numerous examples that Flowers brings up, society has slowly started to realize the harm this kind of faux victimhood thinking is doing to the next generation of youth. Yes, there are many examples of sexual assault- both from males and females- but to say \"rapists and perpetual rapists are everywhere, out there in the ether!\"  Is not helpful to anyone, and this 3rd wave feminist thinking is toxic to everyone, including their own children:\n",
            ".\n",
            "http://www.dailywire.com/news/18590/monster-bigoted-feminist-writer-shames-her-amanda-prestigiacomo\n",
            "258 Lying slut slut slut, wants money now\n",
            "264 You hit the nail square on the head and pounded that sucker flat to the wood.\n",
            "288 Gun deaths ?\n",
            "\n",
            "Oh smug holier than thou Canadian\n",
            "\n",
            "it was Canada where Muslims were killed in a mosque in Quebec\n",
            "in Justin's Canada\n",
            "not in Trump's USA\n",
            "\n",
            "so much for smugness\n",
            "294 Dictionary definition:  Militia 1.(a) org., any military force...\n",
            "Either you are too ignorant or stupid to read the first dictionary definition.  The only \"Well-regulated Militia\" legally existing in the U.S. is those under the Department of Defense.  Your definition only applies to those white supremacist private militia created by your fellow racists and bigots under Posse Comitatus idiocy roaming the nation to intimidate government employees and scared citizens.  The current examples sitting in jail in Oregon.  A \"Well-regulated Militia\" has been in existence for most of the history of the nation without any need for civilian weaponry to defend it.  The only need for civilian weapons is for hunting or protection; therefore all should be licensed and registered with full background checks before ownership like any other threat to other citizens in the wrong hands.\n",
            "301 Well its official  51 vs 49.  Yea!  Victory Victory is our cry!  Dumb republicans. Shame they didn't just support single pay health care.  Well maybe now they will.  lololol\n",
            "325 The \"medical-industrial complex\" is not \"fascistic,\" though it certainly is predatory.  Quit using that term until you know what it means.  (This is good advice for all.)\n",
            "\n",
            "Our entire political system was always or at least has become a \"dark ideology of corruption, public exploitation, and figurative or damned-near literal enslavement.\"\n",
            "379 Workaholic ... you mean the Pres who takes of every weekend and goes golfing. Lol - what a sick joke that is. So far his biggest job has been throwing rolls of paper towels at Puerto Ricans .\n",
            "\n",
            "And when he's not on the golf course he spends most of his time on the porcelain throne tweeting out idiot comments.\n",
            "403 The Chinese aren't stupid enough to believe anything that comes out of his mouth...in any language.\n",
            "412 A wise person pointed out that a lot of people voted for Trump hoping he was a hypocrite and a liar, a lot voted against him because they believed he says what he means - and Vladimir Putin supports Trump because he believes Trump says what he means.\n",
            "418 The mom is a scumbag, I remember thinking that after her comments on her other sons murder charges. Lock her up with the rest of the degenerates!\n",
            "429 And the ugly reality of CIA black ops being financed with drug money, the equally ugly \"coincidence\" of a new heroin epidemic and our ongoing involvement in Afghanistan---All hiding with the chickenhawks like the cowards they are; behind young men and women, many of whom actually want to serve our country...It's a shame in which both parties share the blame.  It's time for change.\n",
            "430 OLeary is nowhere near as awful as folks assume he is.  However in his own autobiography he admits taking lessons from his former employer (Don Cherry!) on how to create an outrageous and fake media persona.  I would rather see a thoughtful articulate politician like Bernier win the nomination, but he has been drowned out by the noise made by loudmouths like OLeary and crazy talkin Leitch, sadly.\n",
            "432 Chief Stewart is an honest, insightful man who cares deeply for the natural world that we all depend on.  Trudeau, simply yet  another scumbag lying politician with good hair, and a powerful\n",
            "pr and social media company behind him....spewing endless pure propaganda of  \"sunshine\" bullshit. Trudeau has the support of Canadian racists - and that is abundantly clear in the comments insulting to the First Nations people marked upon in this thread. Trudeau has betrayed British Columbia, the environment, and the \n",
            "First Nations people and shown clearly that he is not a leader but a pawn of big oil.  Trudeau hides behind a maple leaf lost in his own self regarding narcissism.  A pathetic \"leader\" without conviction, nor vision, a pampered child performing a role much too big for him.  Kudos to the Globe for publishing this important letter!\n",
            "434 WTF is hamilton smoking? He needs some mindless words from willams to inspire him? The problem with the internet is reportig non news like williams baby and hamilton is a moron\n",
            "436 Unfortunately, Putin is far from stupid. Two stupid people working together might be safer - at least they could be controlled by their party handlers. One incredibly shrewd and absolutely unscrupulous actor (Putin was high up in the KGB, remember - those people weren't stupid) manipulating the other like a cheap marionette is a recipe for danger. It reminds me of nothing as much as the relationship between a certain German leader of the previous century and his unwitting Italian accomplice.\n",
            "441 What an absolutely brilliant piece of journalism, Mr Poplak.  In one article you managed to sum up much of the evil that is at play in South Africa, along with the slow but steady progress taking place to dismantle it. \n",
            "\n",
            "I have no doubt that there are a number of scumbags (starting from a president who can't speak properly, read numbers, lead, inspire - how the hell does someone like this even get a job, let alone be leader of the most powerful country on the continent?) who are sweating and squirming now that their walls are coming down.\n",
            "\n",
            "My hope is that as they are picked off one by one and dumped to the scrapheap of history, preferably contemplating their actions from behind some iron bars in free accommodation where there is crap food and fellow guests with bad attitudes.  But for now look out for some running, hiding, and even suicides in the months to come.  Lastly, may they replaced by good men and women who realize that there is no higher calling than serving your country.\n",
            "442 He wanted to start a family in Syria but he's not Syrian. \n",
            "\n",
            "In other words he wanted to be a Islamist colonialist settler, establish an Islamic state or caliphate in Syria, steal land and property from Syrians and kick the Syrians out of their own country or else kill them.\n",
            "\n",
            "The Syrian people did not invite these Islamist terrorist scum into their country.\n",
            "\n",
            "Good thing this piece of garbage is history as far as I am concerned.\n",
            "455 Looks like the Judge might have gotten some \"side benefits\" if you know what I mean. The Judge and jerk criminal boat owner should both be thrown in jail.\n",
            "463 This article is pure rubbish.\n",
            "500 You know, honestly many are just loosing hope anymore. This hateful group of cowards are successfully destroying the United States. Look at how many likes he got for suggesting such a thing. They don't think about wether it's the right person, the right to a defense etc.. They are like a bunch of junk yard dogs. It's almost amusing how Trump manipulated them to gain power isn't it? These people have no thought process in regard to their condemnation. I guess the Middle East won after all because these idiots gave them their way. Divide and conquer is easily done with the stupid, manipulated and afraid. Trust this, that lot will be the first ones to bend over and give Hitler their guns when asked lol!\n",
            "552 Justin Trudeau WILL be defeated in the next Federal election due to his and the Federal Liberal Party's incredible and unbelieveable naivety and incompetence. How did we ever get this incompetent leader? ! Besides Canada's failed electoral system? \n",
            "\n",
            "Was the major issue giving women the vote? who vote for style over substance? Either way it doesn't matter, He is a self absorbed,  narcissisitic, psychopath who needs to be removed from office immediately! He is completely detached from reality and needs to go! Canada WILL suffer under this creeps leadership!!\n",
            "646 That idiot, Pelosi, was complaining that the POTUS wasn't visiting the countries he's visiting on this trip alphabetically.\n",
            "657 None of these cars corner worth a damn with your erection stuck in the steering wheel.....\n",
            "709 \"Councilmembers Ron Menor, Ikaika Anderson, Joey Manahan, Kymberly Pine and Brandon Elefante joined Ozawa\"  These are the ones that need to be voted out next election!  Bunch of clowns.\n",
            "720 Obviously you are the one as dumb as a rock.  The Donald said that he would before he said he wouldn't.  That makes him a LIAR.  You may continue to believe he is not but this conversation is over.\n",
            "721 Canada with seat on the U.N security council means NOTHING unless Canada has some magical influence over Russia and China.  This is just a pipe dream for Little PM Pixie Dust.  Wake up Canada before this intellectual moron gets us into a war.\n",
            "723 Mitch McConnell and John Boehner both acted like entitled plantation slave owners when dealing with Barack Obama.  They both were arrogant and insolent treating him as an unworthy uppity black man who saw himself, God forbid, as President.   Like, how dare he see himself as their equal,  expecting colloquy, compromise, and bipartisan agreement as President of the United States.\n",
            "\n",
            "Like you, Leonard, I grew impatient with how many times President Obama came forward. expecting these hardened people to wake up.  Over and over, Barack did it and it became embarrassing.  McConnell and Boehner didn't deserve that kind of collegial respect.\n",
            "754 another lib troll of complete stupidity, our child PM hasnt handled anyone , he pays off people but handles no one that matters,, trump is running over our pm , this kid is about gender bs not business and trade.. you ignorant shill liberals hate to admit this  so we continue to see this kind of ignorant lying propaganda that doesnt work and will prove you libs out of office in a few years...\n",
            "766 \"well known for judging people by the color of their skin\" ? Perhaps in your (limited closed minded) circles. \"shameless liar\" (Motley - is this provable in a court of law) ?? Amazing how you call others trolls for making outrageous statements, yet do the same thing. As I told Crum, there are about 8 of us true thinkers on this blog against 70 on the other side, it easy to call people trolls and \"sick puppies\" when you are a part of the majority. Let's go through history and see how often the masses were wrong, i have a day job and don't have time, but I am sure a person with your scholarship can do some digging...Good day Eric.\n",
            "776 You aren't that dumb are you,  really.  Gender police?  I'm pretty sure that if you line up 100 people, I can tell if they are male or female.  Go back to smoking your hooch and watching CNN.\n",
            "785 What world do you live in?   Conservatives have been throwing garbage at the man since well before he took office.  Do you even look at this site to at least report the accusation against the man, (the man, not the President).   At least try to sort the truth and own it, instead of swallowing the political cool aid James.  I had no trouble saying the vitriol against President Bush went beyond civilized, much of it from the same 'no nothing, no accountability' crowd that like to belittle our current administration.\n",
            "\n",
            "It's politics, it stinks. The only way to not to give in? - see the BS from both sides\n",
            "811 How would you know?  Prejudice is your weapon against those who oppose your arrogant views.  If anyone has threatened America's greatness, it's the festering sores of racial prejudice, immorality, and an insatiable hunger for wealth.  I don't hate America, but I fear she will be destroyed from within by her own... arrogance feed on the ignorant and the innocent, continuing to weaken this great nation.  You love America, get over yourself.\n",
            "829 YOU ARE SO FULL OF SHIT......THE MORE HE ATTACKS PRESS.....,THE MORE I LOVE HIM\n",
            "842 People who won't let Trump (the 2016 electoral winner) do whatever he wants in office are despots.  Also known as Democrats and Hilary Clinton.\n",
            "\n",
            "(Constitution be damned.  And if you disagree, you're a despot.)\n",
            "872 A day late and a dollar short.  And then to slam the CEO of Merck Pharmaceuticals for quitting his post on Trump's manufacturing council over Trump's initial response show just how much of racist bigot he is.\n",
            "  Deflect to Obama all you want. Trump is still a racist bigot and he is currently the POTUS not Obama.\n",
            "908 The ninth district should be broken up. It makes no sense that liberal states like California and states like Idaho under the same liberal idiots. If the justices were elected by the people it would be a different situation.\n",
            "951 I was raised in the catholic church, never read the Bible, just listened to/repeated the same prayers over and over. The priest would read a tiny bit from the Bible, usually the old testament.\n",
            "\n",
            "When I started thinking for myself, and began to reject the church...that is when I actually read the Bible and was stunned at what it said.\n",
            "\n",
            "Turns out, I am a Christian follower of Jesus, that is why I couldn't relate to the GOP hypocrites in church.\n",
            "\n",
            "Now that I know what Jesus was truly all about, and that he spoke of these same hypocrites back in the day...I have no problem calling out these same people who pray in public and act like jackasses in real life.\n",
            "973 Please.  What made us all \"less safe\" was the US intelligence community sending war to Iraq over dubious \"weapons of mass destruction\" and the ominous spectre of Saddam showing the world \"a mushroom cloud\", and \"yellowcake uranium coming from Niger\".\n",
            "\n",
            "That catastropic, epic fail caused:  Al-Queda in Iraq.  ISIS in both Syria and Iraq.  The Firebrand Cleric (forget his name).  ISIS in Libya.  Great old \"US assets\" in Syria causing hundreds of thousands of civilian casualties and a humanitarian disaster that is still ongoing.  Yemen, whatever on earth is going on there.  The ongoing stupidity in Afghanistan, crooked corrupt puppet regimes after ISAF spent a great deal of blood and treasure, the ongoing resilience of the Taliban.  The resulting creation of ISIS has spurned terrorist attacks, multiple in France and more elsewhere, including the United States.  The disastrous meddling in Ukraine, causing Russia to annex Crimea.  Betting against these nincompoops nets you batting 1000.\n",
            "974 Juan what you propose would result in more agencies with each one have an appointed director. That is more not less babbling fools in charge of things they know nothing about.\n",
            "986 Yep, he is trying to goad people into replying to his inflammatory posts as thats what he is all about...when everybody just ignores his nonsense it drives him nuts.\n",
            "994 I called in to report a lady today on W. 11th in a Blue 4-runner just goofing off with her phone in hand who almost hit me.  She was weaving in and out of lanes with no signals, being oblivious. Then this idiot acted like I was wrong for noticing.  I don't play around, I got her plates, description and called it in right away. I doubt anything was done.\n",
            "Sadly,  most drivers don't care and rarely do law enforcement. My guess is EPD didn't even respond. How many does it take to die over a darn phone?\n",
            "1014 That's ridiculous.  You can't have various interpretations of atheism.  You are either atheist, or you aren't.  There is already another name for people who aren't neither atheist or theists....it is called agnosticism.\n",
            "1026 yuknon: Trudeau's convenient and confusing approach on human rights issues is to simply say that violators are evolving. Canadians who are concerned about human rights are less sanguine. The concern is that at some point Trudeau might cross the line from being an optimist and become an enabler. And this could become really problematic if regimes like that in China come to view him as a useful idiot.\n",
            "1050 Nice try Putin.  We're not as dumb as you need us to be, sorry.\n",
            "1055 I will never give it up.  You may not mind that the president has broken tradition but I sure do.  He has lied and so I will always remind people like you who forget that we have a big fat liar for president.\n",
            "1067 Patricia is appealing to Trump stooges.\n",
            "\n",
            "Trump stores aren't going to rein in Trump, they are abetting his treasonous acts.\n",
            "\n",
            "Dan, Lisa and Don are complicit in Trump's crimes.\n",
            "\n",
            "All three have endorsed the worst of Trump's nominees and sat silently as Trump advances his fascist agenda.\n",
            "\n",
            "Republicans aren't going to stop Trump, they think he's a useful idiot who will rubber stamp their hopes for tax cuts for billionaires.\n",
            "\n",
            "Dan, Lisa and Don are onboard with the Republican Party's aim to advance the Party at the expense of the Nation.\n",
            "\n",
            "It's Party over Country in the Republican Party, make no mistake, \n",
            "\n",
            "...Dan, Lisa and Don are not going to lead any change, they're complicit in the whole thing.  \n",
            "\n",
            "They are Trump stooges.\n",
            "1107 Because liberals want everything their way, and if you disagree in any way with them you're \"ignorant\". They are mad Trump does the crap that they do to conservatives all the time. Do you think Obama would allow an interview with a bunch of conservative news paper columnists asking hard questions? He never did.\n",
            "1108 An excellent idea! Boot out the liars and fakes from cnn and other hack jobs. Get to business and get things done without a bunch of snowflakes asking rigged stupid questions.\n",
            "1124 Disgust for corruption., yes, just as I am disgusted now by the increasingly emboldened sex lobby that dominates Catholic news, making it seem as if we were all 12-year-olds tittering away on a playground. Similarly Luther's own concupiscence was a major motivator. So I can see why that very lobby would be so eager to celebrate the heretical views that underpin the Reformation.\n",
            "1139 Bullshit.  If you are black the rules are different.\n",
            "1146 Trump is a freaking moron. His lack of foreign policy is frankly dangerous. Other US  officials have to constantly walk back his bluster.  He so unqualified it's embarrassing. This isn't a land deal. We are talking about lives and peace at stake.\n",
            "1172 So the jerk making false arrest threats was an ATF agent. Should \"we the people\" be less worried, or MORE?\n",
            "\n",
            "\"Official business\"? Bull!\n",
            "1198 But didn't matter damaging my country's reputation with a fucked up show! Tourists come here and believe that a jungle is a stroll. Wrong, hence the consequences.\n",
            "1206 Some of these comments are obviously from Syria's useful idiots. \n",
            "\n",
            "Look, even if it is the rebels who used the gas, what choice did they have? Assad is a monster, and with Putin's backing he is winning. What are they supposed to do, just let him? Not everyone gets to survive war. Sometimes innocents are sacrificed. It's ugly but the rebels need our support and showing the world the risks is justified.\n",
            "1234 This is the lowest mud slinging yet from Trudeau; dirty dirty dirty\n",
            "1248 Does this nutcase not realize how many people died on 9/11? Does she really think her losing the Pres election equates to that many lives being lost? Rather than blame Russia, Comey, Bernie, etc., why doesn't she just ask those of us who voted for Obama but not her why we didn't vote for her. She will hear about a lack of accomplishment, bad decisions, the Clinton Foundation, the arrogance, the corruption. She will hear many of us made our minds up the day she forced herself, I mean announced her candidacy. She ran a horrible campaign. We saw it. We lived through it. She makes herself look foolish when she offers these lame untrue excuses.\n",
            "1290 Customers of the high-end hotel probably look for Trump's name due to quality / luxury.  It would be silly to take it down...  Protesters aren't going to spend money there anyway.\n",
            "\n",
            "If the owners have seen a loss of business due to the leftist, ignorant paid protesters / bullies making the stay more difficult / unenjoyable, then they may need to take the name down.  Principles over money rarely exists.\n",
            "1314 Voter fraud?!?! Do you believe that he won 335 electoral colleges and 51% popular vote  in a fradulent way? Should everything you don't like be regarded as fake? Donkeys think better than you. Shameful idiotic trumpler. You are simply a burden for this country\n",
            "1327 It is completely moronic to say that moving or removing the statues that are monuments to a war to retain slavery is \"ripping history apart.\" History is still there, just as the history of WWII and Hitler and the Holocaust is still there, and still taught in Germany...without a single statue commemorating the Nazis, of course. Statues are symbols, not history.\n",
            "1336 How fitting, since he was the one person with his own little hands completely demolished the party with his ineptness, stupidity, laziness, as well as contempt for the country and her people.  If the dems are smart, and they most assuredly are NOT putting up a person such as Obama, they wouldn't listen to him - in fact, they should run him out of town on a rail.\n",
            "1338 Trudeau is so pathetic leader that he actually says he will do local meetings with Canadians rather then go to Trump's inauguration?.....what a bunch of B.S, When has Trudeau ever not wanted to do \"selfies\".\n",
            "1347 Us hard working taxpayers continue to get raped financially by this liberal government!!! Sorry folks but every single person in this country has some form of injustice done to them - now does that mean that every injustice needs to be financially compensated?? I think the government might as well hand over $10 million cash to everybody to solve all the problems since they seem to think handouts solve the problems. This is really getting stupid!!!\n",
            "1379 My favorite is the piece done on two women that said Trump harassed them. The reporter made up a whole bunch of things that the women said they never did say. The NY Times is the slim of so called reporting. There are no respectful news outlets left in this country. They get a story and add all their own views and not telling the real stuff. The news these days is just a hunk of crap. Except when the Post says the Bronco's are gong down the toilet.\n",
            "1386 As Matt Taibbi aptly described these hooligans:\n",
            "\n",
            "\"...these people may be dangerous, but their boundless self-pity, their outrageous sense of entitlement and their slapstick incompetence as rebels and terrorists are absolutely ridiculous.\"\n",
            "1405 I believe your whole post is contained in your last sentence, but I can't personally appreciate the jolly remarks about Trump and Spicer.  They are both LYING INTENTIONALLY to the American people,  and even with my twisted sense of humor I can't chuckle or even snort.  I applaud almost everything you write, so this isn't meant as a criticism...what those two buffoons are doing should be halted, and damned fast. \n",
            "\n",
            "Blessings to you (anyway).  😎\n",
            "1463 Junior is either an uneducated moron or a shameless pathological liar. Frankly I’ll argue it’s both. No matter how many times these shameless liars claim we hate Latino’s the issue remains; we hate illegal immigration and our laws not being enforced. As for this profound stupidity demonizing our corn, this staggering hypocrite has absolutely no problem with Mexico exporting cheap agriculture produce to America that created thousands of jobs in Mexico and South America. While Junior laughably claims we have killed thousands of corn growing jobs in Mexico, this clueless wonder says nothing of the tens of thousands of manufacturing jobs we exported to Mexico.\n",
            "As for our unconstitutional illegal war on drugs, this has exposed naked just how corrupt the Mexican government is. Legalize all drugs and Mexico is still ran by criminals as they have ALWAYS been a corrupt country.\n",
            "1466 Bull shit there is no Race about it so let's not even go there to nsf it had to end up with someone dying over stupidity\n",
            "1467 Why because police show up after the crime? Or because they troll poor neighborhoods to harass the poor? Or because they are exceedingly good at one thing, killing unarmed black men? I do believe when a cop dies, we shut down the country. So, we honor them enough. Veterans who are actually deserving ​should be honored.\n",
            "1519 Analyse that saying. If you can fool some of the people ALL the time then this negates, \"you can't fool ALL the people ALL of the time.\" Think about it carefully.\n",
            "1521 THAT WAS MY POINT, DICK. Holy hell. Christians=Muslims. It's all the same.\n",
            "1525 We require people to take a test before granting them a license to drive, but any idiot can have children, and as many of them as possible. This guy should be required to undergo a vasectomy.\n",
            "1537 Exact opposite of what if happening in the States.  Trudeau is the new corrupt 'leader' on the block garnering favours from the elite be it China or super rich Muslim Imams.  Sooner or later someone is going to have to come to grips with Trump eating our lunch and even the useful idiots will finally take notice.\n",
            "1595 The idiocy of this trend is neatly captured in this joke: \"Please Sir, can I have some more...is it organic?\"\n",
            "1610 B:  Where have you been the last  30+years.  This is what happens  when you have Lazy, Travelers, Juvenile Hangouts, Homeless People,  Druggies, Criminals and our judicial system has a Revolving Door Policy.  This is what happens when  local society is a throw back to the late 60's and 70's culture when all they want to do is smoke POT, and have their hand out for FREEBIES.  The Oregon Country Fair mentality, Rainbow Culture mentality.    Society has crapped in the nest here and now has to sleep in it.  This  is  EuGreen,  this is  LAME County.  Its  DISCUSSTING............\n",
            "1675 Oh,  btw, the stands are still full.   Your 'majority' is a small group of flag waving racist nazis following a cowardly draft dodger.\n",
            "1676 Another IDIOT...........MILLIONS out there............\n",
            "1702 Stein and her Lemon Lime Hypocrite Party a long with the Clinton Crime Syndicate have not as yet answered the most basic question of their alleged claim of Russians hacking into voting machines. Especially in light of the fact the states with their voting machines in question have never been connected to the internet. Now that I'd say is nothing short of amazing!\n",
            "\n",
            "Stein and her Lemon Lime Hypocrite Party are just more of the unhinged grievance-mongers screaming about phony voter disenfranchisement. But hey, never mind that a nonpartisan study in 2014 from Old Dominion University concluded that 6.4 percent of noncitizens voted in 2008 and 2.2 percent of noncitizens voted in 2010. Left-wing loon groups sabotaging voter integrity laws see no voter fraud, hear no voter fraud and speak no voter fraud. The Progressive Liberal operational motto is: No unqualified voter left behind.\n",
            "1706 predictably you cannot refute the facts, and like an intellectually bankrupt coward deflect to mindless drivel. But that is expected from people like you. I did give you substance, but you ran like an intellectually bankrupt coward.\n",
            "1716 With love that the Donald provides who needs hatred?  lol  \n",
            "\n",
            "I am not upset that Hillary lost but I am disgusted that we now have a president who has no idea of what the hell he is doing.  I also dislike having a president who is dishonest.  (He promised to release his taxes before he decided not to.)  My question to you Wazdat is what will it take to wake you up to this fraud?  Another economic meltdown similar to what we experienced under the prior republican president?  I also am against wholesale corruption which this president is now giving us.  \n",
            "\n",
            "Sad thing is the Donald has no idea what his job is.  His desire to slash the budgets for the secretary of state and things such as NOAA are just stupid.  Just curious, will you enlist if he gives us another war?   But hay he sure sucks up federal money playing golf and traveling.  Way to go.\n",
            "1766 I applaud the French government for assuring that people can vote without fear of being attacked by some deranged idiot  who thinks he can change the world with a bomb or a gun. \n",
            "The only party that gains from terrorism is the Front National. Hopefully fear will never triumph over reason. \n",
            "We'll see tomorrow.\n",
            "1783 Now maybe this defense will shut their holes and quit trying to blame, you all SUCK!\n",
            "1803 He’s been a hypocrite carney barker for years; this is just further confirmation of him being a degenerate.\n",
            "1806 Sam Wallis.  If Trump were a Democrat (which he once was), the Democrats would be singing his praises--his success, his business acumen, his tough negotiating, his renegade methods to shake up a calcified system of government.  If GOP President Trump walked on water, they would criticize him for not swimming.  If he found the cure for cancer, they wold criticize him for ignoring Alzheimer's.  Democrats can't accept defeat, especially when they trusted the polls, ran a poor/corrupt candidate, and expected to be able to take credit for the first woman president along with the first Black president while continuing to play the race, gender, and all the other cards against the GOP.  That's what they can't get over, their own stupidly poor judgment.   Trump is struggling to find his way, but Americans who desire his failure aren't patriots.  They are the enemy within.  It's long past time for the Democrats to grow up and help Trump govern instead of inventing faux news and obstructing.\n",
            "1809 So the US browbeats the Saudis and OPEC into cutting output to bolster prices, then stabs everyone in the back with increases from shale oil produced in the US? Oil falls back to $40, Shale producers go back into hybernation, oil rises to $45 and they are back again. I see OPEC reverting to their full production again in retaliation and damn the torpedoes.\n",
            "1815 I'm going to throw up :/ I will do all the design work and fabrication for free. Wait no, I forgot, the whole idea is so completely stupid. Fire everyone! I'm so bummed out because this is how ALL the government thinks. They can't think! They think they can think, but they can't.\n",
            "1886 There was no discussion of the \"burka\" during the election. However, Harper and his gang of ignorant xenophobes lost the election because of their proposed niqab ban and their proposed \"snitch line\" — views and values that Canadians, by and large, found repugnant.\n",
            "1898 Absolutely, Hillary and her band of bandits, with her foundation that stole billions, her emails, her massive immigration, Soros, #pizzagate, rape, murder, Podesta, HUMA embarrassment, Benghazi..yup Trump is right up there>>LOL<<<\n",
            "1899 It provably too late now, however, if you CI clergies & religious all speak up with 'Christ-like integrity' against clergy sex abuses of children, this problem will end in no time!\n",
            "Yet you unethical, pompous attitude of believe in religious superiority as a clergies/religious decide to support the rapes of children by your silence till your soul will 'burn in hell'.\n",
            "You clergies/religious do not believe there is a living God who is immanent in children, do you?\n",
            "You don't believe in Holy Mary who is the mother of all souls on earth, do you? \n",
            "If you do not believe in these spiritual realities on earth, just give up being a clergy/religious! \n",
            "I think we can do all better without you spiritual hypocrites!\n",
            "1974 This is a classical example of where smart person do a stupid thing and ended up being killed. I read that book about deaths in Yellowstone and in almost all cases, its where smart person do a dumb thing. One story has it where a dog fell into one of these pits and his owner went into pit to save the dog. Dog was already gone when the owner went in and now the owner was gone.  I have read in other news outlets that Colins Scott was a great guy, a type who would never wandered off from the designated trail but his fate tell us that he did exactly that. I been to Yellowstone before and they got signs all over. Funny that these signs are there for safety measures not as a décor. This should be considered once more as a lesson learned. Otto von Bismarck once stated that only the stupid learn from his/her own mistakes. Smart ones learned from mistakes of others. That sound bit harsh even if the guy was grouchy old Prussian but there is something to that statement in a story like this.\n",
            "2020 I argued about this with our kid's school principal and was basically told that I was an idiot for even suggesting such a thing. (I shall look her up now if the old battle-ax is still running a school.)\n",
            "\n",
            "As Sir Ken Robinson once stated:  There are other important attributes of a child other than the date of manufacture.  Kids all don't become equally 'ready for school' at some magical age.\n",
            "2024 ........... said the blind dumb and deaf lemming.\n"
          ],
          "name": "stdout"
        }
      ]
    },
    {
      "cell_type": "code",
      "metadata": {
        "colab": {
          "base_uri": "https://localhost:8080/"
        },
        "id": "GxIckqk2w-6q",
        "outputId": "5b156789-feb2-4e24-f4d0-84de43e06b76"
      },
      "source": [
        "for index, rows in df_test[df_test['prediction'] == 0].head(100).iterrows():\n",
        "  print(index, rows['comment_text'])"
      ],
      "execution_count": 51,
      "outputs": [
        {
          "output_type": "stream",
          "text": [
            "0 [ Integrity means that you pay your debts.]\n",
            "\n",
            "Does this apply to President Trump too?\n",
            "1 This is malfeasance by the Administrator and the Board.  They are wasting our money!\n",
            "2 @Rmiller101 - Spoken like a true elitist. But look out bud. The re-awakening in Europe, Brexit and now the Trump victory are just the beginning. The unwashed masses are coming for you and your ilk….\n",
            "3 Paul: Thank you for your kind words.  I do, indeed, have strong beliefs and don't hide them.  They are based on both facts and values.  I think the question of \"bias\" and \"prejudice\" comes into play when we're discussing beliefs and attitudes based on values.  One of our poster friends,  for example, often comments that being \"intolerant\" of a bias, for example, is, in itself, a bias.  This is, IMO, where the concept of \"irratonal antipathy\" is important.  If I dislike neo-Nazis because of their views on race, my antipathy is based on fact (knowledge of their views) and values (my belief that condemning others because of their race/religion is WRONG).  Were I to, instead, dislike all Germans, that, IMO, would represent a bias...an irrational antipathy...since not all Germans condemn others because of their race/religion.  I discuss the \"bias\" question in another response to you....\n",
            "\n",
            "It's an interesting topic and I'd enjoy discussing it w/you sometime.  Give me a call.  Gary Crum\n",
            "4 Sorry you missed high school. Eisenhower sent troops to Vietnam after the French withdrew in 1954 and before that America was providing 50% of the cost of that war. WWI & WWII were won by Democrat Presidents and the last win a Republican had was 1865  but the did surrender in Korea and Vietnam and fail to win in desert Storm or these two wars.\n",
            "5 Let’s see if I understand this; Berkowitz announces a $14M surplus then he rails against Proposition 8 because it would constrain his ability to confiscate even more money from citizens. Berkowitz and his allies on the Assembly changed the tax cap language to facilitate confiscating greater amounts of citizen’s money. Now why would a mayor who professes fidelity with the taxpayers change the law to enable him to take more money from them? Probably because he plans to take more money from them.  Berkowitz said if Proposition 8 passes “it severely constrains our ability to give out property tax relief.”  So Berkowitz wants the ability to confiscate more of the citizen’s money to provide property relief. How about taking less of that money in the first place?  Let’s hope Proposition 8 passes.\n",
            "7 'Work together'? Dream on. The liberals are already busy creating the next scandal/crime to accuse President Trump of since they lose the policy debate every time. They are sniveling statist traitors and they should be ground into the dirt as they will never ever let up in their qwest to destroy this country by any means available. Of that you can be sure.\n",
            "8 What would Jerry Prevo think about that story? Exactly what I think about his....\n",
            "9 When wil the  indigenous  be accountable and take responsibility instead of blaming others ?  They have to be accountable and pay their own way or go it alone.\n",
            "10 the people against O'Leary are the same people against\n",
            "\n",
            "Trump\n",
            "Brexit\n",
            "\n",
            "not a good track record so far\n",
            "2 down and 1 to go\n",
            "11 Between racist Eastman and 'Slappy' Wilson the Wasilla delegation is an embarassment to the valley and the State. Both should resign. This is Trump's America, open racism in the Republican party and physical attacks on reporters.\n",
            "Cue the usual racist adn commenters telling us how Eastman actually has a valid point with no evidence beyond an anecdote from the time they did a stint in the bush in 3...2...1....\n",
            "12 Since whining is the lifeblood of online comment sites, the Pope's sign will find little support here. The self-pitying ones with their myriad complaints would have you believe that Canada is a dreadful place to live -- why they haven't left for their perfect foreign paradise is a mystery -- when by any relative standard it remains a refuge of stability in a chaotic world, its ongoing issues not likely to be solved by endless griping from anonymous online cranks.\n",
            "13 Sue blue jeans, get out more and learn about the world, please.  It is not just about you.\n",
            "14 This debate will never end.  However the real hypocrisy is MD's addressing a very minor issue such as weed, when alcohol creates more havoc than all the illicit drugs combined.  I see Microbreweries popping up everywhere, wine tastings and wine country tours with thousands of acres of land being used to cultivate grapes and not anyone ever complaining or debating the \"medical\" benefit from alcohol.\n",
            "15 IT IS DOA! As Collins announced her intentions to vote NO!\n",
            "16 There are no words for these senseless acts.. God help us all if we do not learn that evil lurks even in the face of these teenagers. Such violence against their peers, should make everyone take pause. Be safe children, be safe. God says you can be the light of the world.\n",
            "17 What a terrific story.  In Japan they have people who are designated as 'living treasures' because they retain an expertise in sword making or ceramics.  This gentlemen should be considered a living treasure.  I am sure his canoes cost a lot of money given the work involved but it would be amazing to own one.  Thank you for telling us about this.\n",
            "18 As Donald himself said, \"Nobody knew that health care could be so complicated.\"\n",
            "\n",
            "So take your time, get it right.  Don't rush it for political reasons.  And keep the promise that \"nobody  will lose coverage.\"  Can you do that?\n",
            "19 Well here we go again.  Let's continue to subsidize the cost of power, costs that are out of control due to decisions made by the Liberal government.  How nice to know the government has such contempt for the citizens of Ontario that it thinks we won't understand we are being bribed with out own tax dollars - tax dollars we will have to pay back with interest - to make re-election of these corrupt fools possible.  Not enough that the deficit remains large, we will now increase that deficit to buy votes.  This stinks, just like the power plant cancellation last election.  Ontario voters, wake up and throw these bums out!!\n",
            "20 Let me guess, you've never been an NFL player right? That's a rhetorical question BTW.\n",
            "21 It's a black mark on the previous administrations who allowed massive illegal immigration to go on for far too long. Put the blame where it should be.\n",
            "22 In the last decades the rich have god significant richer and poor poorer - at least in the current policy environment they are mutually exclusive.\n",
            "23 Kitty Piercy did her best to make the almighty \"legacy\" (city) hall larger-than-life, at the city council work session on 7-11.  Move the slide time-bar to 11:18 minutes, on the webcast of that meeting:\n",
            "\n",
            "http://ceapps.eugene-or.gov/CEWebcast/WebCast/Play.aspx?mid=2996\n",
            "24 Where is all that anger coming from?  A jaded relationship?\n",
            "25 Exclude the more radical fringes on all sides and most of the discord goes away.\n",
            "As I see it, \"corporations are people\" needs to be suspended and a new moderate party needs to be formed.\n",
            "26 Ignorance is bliss, ain't it?\n",
            "27 Jjfoxy,\n",
            "Why would 90% of articles print fake news to discredit Trump? Where are you getting your news from? Please Trump followers, where are you receiving news to compare with the majority? List them I will go read them. If you don't have truth, how do you know which is a lie?\n",
            "28 Lets make some fact based statements. Half of them under 21???? fake news\n",
            "29 How about introducing Vukovich to you, Bob1946?\n",
            "30 The president makes himself an easy target.\n",
            "31 That is point I'm trying to make. We seem to be voting for the same dysfunction election after election. Your numbers seem to indicate that our residents, many of whom are at or below the median income, are voting, time after time, against their interests. All I was attempting to posit was that we should try thinking outside of the box to resolve some our problems and we can't do that by electing the same politicians over and over again. Thanks for your response.\n",
            "32 You can also find out the airline you thought you were going to fly with has subcontracted the entire flight to another carrier.  Norwegian Air did this to me last March so I got the privilege of flying with a Spanish company I'd never heard of....old plane, worn out seats, etc. I'd wouldn't't have booked this airline in the first place but wasn't warned of this or else would have rebooked.   So Norwegian Air you lost me for good.....\n",
            "33 this is *&^%ing outrageous. The prosecutor should be immediately removed from his job.\n",
            "34 I believe we have reached any reasonable limit of decency in interfering with the private life of our politicians. Are we really so naive to believe that if the PM would have had the intention of doing a favor to an old friend a free helicopter ride was the thing that had him made it.?  It is pure witch hunt and then we are surprised why the best do not show up for public service. Would any of us have his/her own life thrown apart for a bunch of whiners never happy wanting everything without paying for anything. I am paying probably more taxes than I would like but I am happy and proud to live in a country that is protecting the weakest. This is insane we have completely lost a real perspective. This is not the measurement of the success of a politician, if he takes a free helicopter ride. But unfortunately it is much easier to blame someone else than look at yourself and be honest about our shortcomings. Who is without sin throw the first stone\n",
            "36 The ignorance and bigotry comes from your post!\n",
            "37 Don’t get it do you. As the price of things go up especially eating out people will respond by not tipping, and layoffs will ensue. I will be dropping my tip rate to 0. After all you are being paid right, so I don’t need to. \n",
            "\n",
            "Timmy’s has already started to raise prices, and I understand from a number of franchises getting ready to cut staff. McDonald’s is moving up their automation timelines.\n",
            "38 I bet China would be happy to help Puerto Rico rebuild in exchange for a nice military base.\n",
            "39 “This was not an action that was taken lightly. The EPA doesn’t go around suing willy-nilly.” said Jane Ard-Smith, chair of the Pikes Peak chapter of the Sierra Club. Coming from a representative of the most sue happy non-profit in the U.S., this statement doesn't carry much credibility.\n",
            "40 We all know in a cash business uncle sam will never get their fair share when cash is stored in shoe boxes.   So who is watching the hen house?  Will our power & water costs will go up?  Will the gov be seizing double sets of books?  What is the fine for not declaring all your profits in a cash biz?\n",
            "41 The command to \"sin no more \" appears to indicate that the woman was guilty. I don't think the lesson has to do with evidence. It says we are not worthy enough to condemn others for many types of sins. \n",
            "I would assume this does not apply to criminal activity like murder or theft though.\n",
            "42 Eight years after the first high-quality publication that small particulate pollution causes brain damage, a finding that has been repeated many times now, our journalists still refuse to ever include this among the dangers of our local air pollution problem. I guess there aren't any science requirements for journalism majors.\n",
            "43 And let's not forget the original chemically powered rockets were also of Chinese origin.  Gee, where would those conquering white males be without all their 'fireworks'.\n",
            "44 The headline does not correspond with the content in the article and specifically to what Coach Leavitt has to say on the matter.\n",
            "\n",
            "Headline: Lamar Winston planning to make his first start on defense for Oregon Ducks at Wyoming\n",
            "\n",
            "Article: Leavitt said he’s not sure if Winston will open the game against the Cowboys. “We have different personnel groups so I don’t know if he’ll start or not, it depends on who goes out there,” he said.\n",
            "\n",
            "From the article it appears the defense in an ongoing state of competition and we can expect, injuries aside, to see different people inserted as starters based on practice performances.\n",
            "\n",
            "GO DUCKS!\n",
            "45 Mccallum stopped drinking in 2002.\n",
            "46 Alaska's great because of \"this man.\"  Alaska's been spiraling into the toilet under Republican majority for decades and all we need is one more flush and we're done.\n",
            "47 Isn't the person dead?\n",
            "48 Everybody want's the piece of pie, Owners, Contractors, and the Senate.\n",
            "49 An \"abject lesson\" is a lesson that is painful or humiliating.  \"Object\" on the other hand is a noun--it is not even an adjective, it is not a descriptor of any kind per se.  It is entertaining though, to see a semi-literate boob getting advice from another semi-literate boob.\n",
            "50 Been waiting for it. The republicans have completely thrown in the towel on their 2016 chances and are trying to position for 2020.\n",
            "\n",
            "Pence is a vanilla, boring, bible-thumper who just got done defending Trump's endless lies.  One step above Cruz.  There may be a worthy republican to unseat Clinton, but he's not it.\n",
            "51 Right on the money Gary Crum. And if they hide behind the anonymity of masks and the mob, they're cowards to boot.\n",
            "52 The only safe space needed would be for conservatives. It's only going to get worse.\n",
            "53 So you advocate for increased property taxes instead?  I prefer consumption taxes so people have more control.  Like it or not many municipalities will need funds to improve roads and infrastructure and it needs to come from some where....\n",
            "54 A better question is, \"In your last election, how much campaign donations did you accept from the U.S. Chamber of Crypto-Fascist, Crony Commerce? Or, can you support a Senate leader who refuses to eliminate the \"blue-slip\" provision?\n",
            "55 Just because in the past people's mental health was disregarded, doesn't mean that it was right. From my experiences and observations, it created a generation of adults who are miserable and unable to deal with their emotions or admit when they are in need of help. There is a reason suicide rates are so high, and if institutions are doing their part to potentially help decrease those numbers, then in my eyes that is a good thing.\n",
            "56 adding to that there is a lot of American investment in Canadian companies so their benefiting on multiple fronts... our economies are heavility integrated.\n",
            "57 Niki-- In 9 years the UA budget increase from $229m to $370m. That's a 62% increase while inflation was 19%. The \"draconian cuts\" still leave UA with decade-long budget increases more than double inflation.\n",
            "58 He has a masters of science in Chemistry and the Charism of Bishop and Pope. He has plenty of theologians on his payroll and in his Order that he can rely on.\n",
            "59 Why not attach a poll to this article asking our preference?  Let the powers that be see what Canadians think and what they want.  Even with the chance for the prizes, I will still prefer to watch the full US broadcast with the commercials.\n",
            "60 Well, it appears the staff needs trashing. If they would do what he tells them to, then he would not complain that they aren't. It's not the pope's fault, it's the curia's fault.\n",
            "61 All the folks you mention are dead. The Southern Strategy was real and deliberate. The only thing stopping you from Googling it up and reading about it is your intense desire to remain ignorant of facts you don't like. Reagan won every Southern state except Georgia in 1980. Jimmy Carter was Georgia's Favorite Son.\n",
            "\n",
            "The important thing is that the \"Solid South\" is now solidly Republican. In spite of your meaningless citation of a dozen dead people, the South has changed little in political and social character, still being the center of black voter discouragement, disenfranchisement, and gerrymandering. Only a few states are \"solid\" Democratic states, by contrast; the \"flyover states\" are mostly firmly Republican, and the \"rust belt states\" are in contention. Southern voters and politician are the same as always except that now they call themselves \"Republican\". And without the South, Republicans could not win the presidency any more.\n",
            "62 Thank you Mr. Bennett for representing me and my small business\n",
            " I'll continue to bending over and grabbing my ankles and paying my $497.00 A month with my $7,500.00 deductable.\n",
            "63 I totally understand what murder is.  This is the killing of a person with the sanction and approval of the State.  It's an execution.\n",
            "64 Nonsense. He actually pitched pretty well last night. Grienke was really in a groove.\n",
            "65 The People Are Going To Rise Like The Waters Upon Your Shore: A Story of American Rage.\n",
            "_______________________________________________________________\n",
            "This guy's book is a little late \n",
            "Our rage is already satiated. That is why we voted in Trump.\n",
            "Typical democrat - 1 year late and 100 lbs light\n",
            "66 One point of note with regards to Australia's minimum wage: Tipping is all but unheard of there.  So those working in restaurants or bars might get a higher \"wage\" but little to no tips, so their overall wage is comparable.\n",
            "\n",
            "Obvious restaurants and bars aren't the only ones that pay low wages, but they are one of the big industries paying lower wages here.\n",
            "\n",
            "Also prices in Australia are quite a bit higher than in Canada.  OECD puts the Purchasing Power Parity comparison at roughly 16% higher, so $17.60 Aussie dollars is more like $15 Canadian dollars from a PPP perspective.\n",
            "67 Where are all the Catholic schools in Chicago?  Why were they not supported and continue to thrive.  Do you think the demographics had something to do with it.  People whose children  went to these schools mostly for free or greatly reduced rates and the same parents who did not contribute in the Sunday basket brought about the destruction of the school system that only survives in the suburbs.  Do you really want this to happen to the rest on the nation with everything you touch, see or taste.  Woman, you have no clue.\n",
            "68 As the Minister of Information and Policy and Strategy advisor to the Hawaiian Kingdom I can state unequivocally and with full authority that the \"aquarium industry\" is in violation of one of the basic principles of Hawaiian culture, malama aina.\n",
            "\n",
            "Malama aina has been a traditional socio-cultural practice of Hawaiians and ALL Polynesian peoples for many many thousands of years. Malama aina roughly translates as \"nurture and sustain what feeds and provides for us\". It means that we must act ethically, sustainably and on a subsistence basis at ALL times whenever we take food or resources from nature,\n",
            "\n",
            "To do this we take from nature only what we need to sustain ourselves and NOTHING more and we do nothing that might effect the natural balance of all living things.\n",
            "\n",
            "The \"aquarium industry\" violates this basic Hawaiian principle because it takes reef fish for monetary profit NOT for subsistence.\n",
            "\n",
            "ponokeali'i\n",
            "Minister of Information and\n",
            "Policy and Strategy Advisor\n",
            "to The Hawaiian Kingdom\n",
            "69 Dazed, befuddled & confused?  Just like trump.\n",
            "70 That's an apples and oranges comparison. The carbon tax is not an environmental issue but a political issue. If Canada were to completely stop using carbon, the global impact would be statistically insignificant. Night hunting and wildlife conservation on the other hand is an environmental issue that I am sure if everyone put politics aside, they would come to some sort of bipartisan agreement. It would be nice if these chiefs for once, took responsibility and did their job but it's obvious that their intentions run counter to the rest of the population, including their own.\n",
            "71 An old professor once told me \"Never mistake ritual for reality.\" The Church evolved into a community dependent on priests because of its attachment to rituals, some of them weekly. If the Church were to consider that rituals are necessary less frequently -- or not at all -- the idea of a \"priest shortage\" would have to be revisited. \n",
            "The reality of the gospel is attainable by anyone who puts it into practice in their lives. We don't need more priests. We need Catholics who take charge of their faith.\n",
            "72 Marcello Caira. Very nice. Sold the company out to a bunch of students (RBI) who only care about there pocket, the brazilians pockets, and shareholders. Que desgrazia.\n",
            "73 This is an appalling decision in allowing the takeover of a high tech firm by businesses linked to the communist party of China, which has never renounced its' ideological commitment to combat, undermine, and destroy, western capitalism, individual rights, right of ownership, expression of differing opinion, and democratic election.  This is a country that has corrupted and bullied governances in Asia and Africa to exert their sphere of influence.  It is a regime that has brutally oppressed its' own population since assuming power in 1948.  It is a stain on the 6000 year old civilization of China.\n",
            "\n",
            "One can only wonder whether this decision is linked to the pay for access scandal and recent contributions to the Trudeau Foundation by those affiliated with the communist regime.\n",
            "\n",
            "We, as a nation, and critical component of western defence and democracy, must prevent this breach of  western security.  Our allies must be outraged.  A thorough investigation of this decision is required.\n",
            "74 This is a perfect example of why you will not be talking to anyone but yourself. Lack of comprehension skills. There is no point discussing with you. Doesn't matter what science is cited, you guys say it is bad, pseudo science or irrelevant. There is just no point when you consider youselves smarter than the entire EU Public Health Panel on Biocides and also their Fluoridation Panel. \n",
            "Must be nice to be so much smarter than everyone else. Pity your opinion is irrelevant to them. \n",
            "Read the letters from the various health authorities in Europe on fluoridation. Don't even try that assertion that the question was loaded. An answer that says fluoridation is not wanted, needed or in some cases not permitted, does not come from a loaded question. Now you know why your opinion is neither wanted, needed (except to laugh at) and considered superfluous. \n",
            "Please do not bother answering. We have real matters to take care of, Like kicking Fluoridation out of our community forever.\n",
            "75 It's \"decalogue.\"\n",
            "76 Another great 'Vicky article'. Love them!\n",
            "I grew up on a homestead in the Copper River Valley. Now that gets cold! I spent hours outdoors, skating, mushing dogs, getting wood, hunting, you name it. Never froze a single finger or toe or was even uncomfortable. The secret? Ahtna-made moose hide mukluks and mitts. No lie: 50 and 60 below and never got cold once. I put thick wool felt insoles in the mukluks and wore thinner mittens inside the moose-mitts and that did the trick. Hey, it worked for the Ahtna people for thousands of years. And if you want to keep your toes warm indoors all winter get a pair of moosehide moccasin slippers. The hand made ones with beaver fur around the tops.\n",
            "77 Scott, you have the right to send the State  as much of your money as you like.\n",
            "You do NOT have the right, to that which belongs to others.\n",
            "78 You need to thank Pelosi and Obama for government interference in the free market. This is merely transferring wealth from one person to another. This is necessary also to fund Medicaid expansion where a single able bodied person can choose NOT to work and get free health care. My suggestion to the Padgetts: just quit working and get free Medicaid, cell phones, housing, food, transportation (if living in rural AK).\n",
            "79 States rights and white supremacy are not mutually exclusive. The state right that was being defended was the right to enslave black people for fun and profit. Today many states want the right to treat certain members of our nation as 2nd class citizens. For example, men can have what ever kind of healthcare they think they need. Their only limitation is whether or not they can afford the health care they want. Women don't have that right in many states. Another  right that is not the same for all Americans is the right to own guns under the 2nd Amendment. Our white domestic terrorists are allowed to walk around in public armed while black people are killed for the mere suspicion of being armed. The United States are not that united. We clearly don't share the same morality from state to state. The truth is all lives don't matter here. They never have. We will never be united until we make all lives matter.\n",
            "80 Jack Reacher is referring to the Bush/Cheney \"Monkey Court\"................\n",
            "............... When Khadr took the Harper Government to a real court in 2013 he won .\n",
            "The Harper government already wasted $5,000,000 in lawyer and court costs ............\n",
            "..................... only to lose defending the indefensible\n",
            ".................... after kicking the can down the road until after the next election\n",
            "81 The pay gap exists entirely within households. Young single women are now outearning young single men.\n",
            "\n",
            "When the primary earner comes home to say \"Hey, I just got a raise!\", does the other person say \"Turn that down! You are making the wage gap worse!\"\n",
            "\n",
            "Or, do they say \"Great! Let's buy a new car!\"?\n",
            "84 Somebody needs to dig up the Peterson's back yard!  What other evil deeds did Monster Mom hide to protect her killer sons?  Lock her up too.\n",
            "85 But there are fewer and fewer of them left.  Remember in January/February how these comment boards were full of Trump supporters defending all of his bad decisions?   Not hearing from them these days.\n",
            "86 Only in America can you get 25 likes for admitting you are pathetic. But seriously financial destitution is a pretty common thing in a state where booms and busts happen with great regularity. The weird thing is an occasional bust might not be such a bad thing, If Alaska became the \"Land of Milk and Honey\"\n",
            "everyone would want to live here. A huge influx of people would slowly destroy the wilderness that keeps many of us here. But perhaps more importantly with the pressures bust's produce comes innovation and a role up your sleeves attitude which often leads to prosperity of the soul if not the pocketbook. The pathetic thing is when people get too comfortable they get lazy and complacent. This can happen to individuals and even to the things humans create like pipelines, legislative bodies or permanent funds. We live in chaotic times but we might end up better for it with some time out to think.\n",
            "87 Alaska currently pays out more and takes less in from oil companies than any time in it's history.  Huge cuts in the oil production tax, not declining oil prices are responsible for the bulk of the deficit.  A fact that very few people understand. If the oil and gas industry paid its fair share the deficit would be 50-75% solved.  A modest progressive income tax would be all we need to fill the gap.  Protect the PFD.  As ownership state shareholders, it's the people's return on their investment that keeps us connected to our great land.\n",
            "88 \"Flying in NATO reinforcements from Germany and Poland, which lie to the south, would be close to suicidal, Maj.-Gen. Neretnieks says, because of Russia’s formidable air force and the presence of long-range anti-aircraft batteries in Russia’s Kaliningrad exclave, which is wedged between Poland and Lithuania.\"\n",
            "\n",
            "I hope someone in NATO has worked out the scenario of invading Kaliningrad to neutralize Russian forces there.\n",
            "89 All of that diversity gets lumped together when you are looking down on it from a throne (or other rent-taking perquisite of whatever description).\n",
            "90 http://www.hawaiisnaturalhigh.com/\n",
            "\n",
            "Bummer man!  Greg used to shoo me outta his store when I was in high skrewel.  Later, we had some good discussions of great rock bands.  GREG!  Get a job.  Your store is closed!  I'll give you $20 for the Van Halen and Led Zep t-shirts I wanted.\n",
            "91 It's very easy to justify your hate by saying you share it with the Almighty...\n",
            "92 why are comments closed - yet again.\n",
            "93 You don't have to watch very hard to see missiles shot over neighbouring countries as NK has done. When did Iran do that exactly?\n",
            "94 not a word about Germany criminalizing free speech on social media this week\n",
            "\n",
            "WOW\n",
            "\n",
            "State sponsored media and their thumbs down Globalist  lap dogs around here slopping up Merkel like she's a queen\n",
            "\n",
            "She's destroyed Europe with immigration\n",
            "Don't believe go there\n",
            "95 I would love to know how Dlamini qualified for this position(nepotism aside) . She isn't fit to be a housemaid!\n",
            "96 The Three Stooges -- Trump, Nunes, Ryan!\n",
            "97 Just select 'hide replies' on the top. G&M had already acted on it. Good.\n",
            "98 I don't know why this subject has been inflated to a cultural issue.  it's really more simple: Eat less and exercise more!  Take responsibility for your own personal dietary decisions.  Don't blame society, the missionaries, and the Foreigners.   I mua!\n",
            "99 Perps are showing up a lot more often these days. We need laws to reflect current day crimes. Like execute when guilty. No waiting. No mercy as well. This is one of those cases that qualify.\n",
            "100 what ??????!!! a false news report, how could that possibly happen\n",
            "101 That's a terrible argument. Many people besides your parents paid taxes for you to go to school.  Should you pay them back for your education? Seems fair if you're going to say only people with kids should pay school taxes. Amazing that people think only of the \"now\".\n",
            "102 This woman fails to address many of the concerns that outsiders have about these events, such as:\n",
            "\n",
            "1) I note that she speaks only about a son.  Does she have a daughter?  Is she OK that girls are not allowed to participate equally in these school sponsored events?  What about trans-gendered or gay students?  \n",
            "\n",
            "2) It states: \"The supervising teacher has to read through each sermon before it can be delivered, and my son assures me there is nothing “overly political or extreme.”\".  Well that's nice.  Who is supervising the teacher on this?  (It could be that they are the biggest instigators of controversial rhetoric.)  And does not overtly political or extreme mean that it is somewhat political or extreme?  Is the teacher present to ensure what was prepared is the same sermon that is being delivered?  Would her son admit it if there was nasty rhetoric being preached?  Would all of the various factions within Islam agree to this particular sermon?\n",
            "\n",
            "Too many unanswered questions for me.\n",
            "103 They did not have a choice but currently they did break immigration laws, the Presidents who kept them here and the parents are at fault here.\n",
            "Fix the law, Obama and Trump gave an oath to uphold the law and should do so. Obama, Bush's and Clinton created a situation where these kids are put in a terrible situation.  They are all to blame and Trump should follow the law as Congress wrote it.\n",
            "If for no other reason than to prevent this from happening again.\n"
          ],
          "name": "stdout"
        }
      ]
    },
    {
      "cell_type": "code",
      "metadata": {
        "id": "tqFWFObgnL7j"
      },
      "source": [
        "df_test.drop(columns='comment_text').to_csv('/content/drive/MyDrive/Upskill/project2/data/train_clean.csv', index=False)"
      ],
      "execution_count": 40,
      "outputs": []
    }
  ]
}